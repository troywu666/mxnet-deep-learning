{
 "cells": [
  {
   "cell_type": "markdown",
   "metadata": {},
   "source": [
    "# 卷积神经网络"
   ]
  },
  {
   "cell_type": "markdown",
   "metadata": {},
   "source": [
    "## 二维互相关运算"
   ]
  },
  {
   "cell_type": "code",
   "execution_count": null,
   "metadata": {
    "ExecuteTime": {
     "end_time": "2019-05-04T01:38:36.797382Z",
     "start_time": "2019-05-04T01:38:25.670973Z"
    }
   },
   "outputs": [],
   "source": [
    "from mxnet import autograd as ag\n",
    "from mxnet import nd\n",
    "from mxnet.gluon import nn"
   ]
  },
  {
   "cell_type": "code",
   "execution_count": null,
   "metadata": {
    "ExecuteTime": {
     "end_time": "2019-05-04T09:59:44.867321Z",
     "start_time": "2019-05-04T09:59:44.860316Z"
    }
   },
   "outputs": [],
   "source": [
    "def corr2d(X,K):\n",
    "    h,w=K.shape\n",
    "    Y=nd.zeros((X.shape[0]-h+1,X.shape[1]-w+1))\n",
    "    for i in range(X.shape[0]-h+1):\n",
    "        for j in range(X.shape[1]-w+1):\n",
    "            Y[i,j]=(X[i:i+h,j:j+w]*K).sum()\n",
    "            print(Y[i,j])\n",
    "    return Y"
   ]
  },
  {
   "cell_type": "code",
   "execution_count": null,
   "metadata": {
    "ExecuteTime": {
     "end_time": "2019-05-04T09:59:45.581735Z",
     "start_time": "2019-05-04T09:59:45.563725Z"
    }
   },
   "outputs": [],
   "source": [
    "X = nd.array([[0, 1, 2], [3, 4, 5], [6, 7, 8]])\n",
    "K = nd.array([[0, 1], [2, 3]])\n",
    "corr2d(X, K)"
   ]
  },
  {
   "cell_type": "markdown",
   "metadata": {},
   "source": [
    "## 二维卷积层"
   ]
  },
  {
   "cell_type": "code",
   "execution_count": null,
   "metadata": {
    "ExecuteTime": {
     "end_time": "2019-05-04T01:51:37.873368Z",
     "start_time": "2019-05-04T01:51:37.867366Z"
    }
   },
   "outputs": [],
   "source": [
    "class Conv2d(nn.Block):\n",
    "    def __init__(self,kernel_size,**kwargs):\n",
    "        super(Conv2d,self).__init__(**kwargs)\n",
    "        self.weight=self.params.get('weight',shape=kernel_size)\n",
    "        self.bias=self.params.get('bias',shape=(1,))\n",
    "        \n",
    "    def forward(self,x):\n",
    "        return corr2d(x,self.weight.data())+self.bias.data()"
   ]
  },
  {
   "cell_type": "markdown",
   "metadata": {},
   "source": [
    "## 通过数据学习核数组"
   ]
  },
  {
   "cell_type": "code",
   "execution_count": null,
   "metadata": {
    "ExecuteTime": {
     "end_time": "2019-05-04T02:32:05.579677Z",
     "start_time": "2019-05-04T02:32:05.515634Z"
    }
   },
   "outputs": [],
   "source": [
    "from mxnet import nd\n",
    "from mxnet import autograd as ag\n",
    "from mxnet.gluon import nn\n",
    "from mxnet import gluon\n",
    "\n",
    "conv2d=nn.Conv2D(1,kernel_size=(1,2))\n",
    "conv2d.initialize()\n",
    "\n",
    "##X=nd.ones((1,1,6,8))\n",
    "##X[:,:,:,2:6]=0\n",
    "##K=nd.array([[1,-1]])\n",
    "##Y=corr2d(X,K)\n",
    "##corr2d只能用在二维数组\n",
    "X=nd.ones((6,8))\n",
    "X[:,4:5]=0\n",
    "K=nd.array([[1,-1]])\n",
    "Y=corr2d(X,K)\n",
    "print(X,K,Y)\n",
    "X=X.reshape((1,1,6,8))\n",
    "Y=Y.reshape((1,1,6,7))\n",
    "\n",
    "for i in range(10):\n",
    "    with ag.record():\n",
    "        Y_hat=conv2d(X)\n",
    "        l=(Y-Y_hat)**2\n",
    "    l.backward()\n",
    "    conv2d.weight.data()[:]-=16e-3 * conv2d.weight.grad()\n",
    "    print('NO.%d, loss:%.3f'%(i+1,l.sum().asscalar()))"
   ]
  },
  {
   "cell_type": "code",
   "execution_count": null,
   "metadata": {
    "ExecuteTime": {
     "end_time": "2019-05-04T02:32:09.104062Z",
     "start_time": "2019-05-04T02:32:09.098056Z"
    }
   },
   "outputs": [],
   "source": [
    "print(conv2d.weight.data().reshape((1,2)))"
   ]
  },
  {
   "cell_type": "markdown",
   "metadata": {},
   "source": [
    "## 填充与步长"
   ]
  },
  {
   "cell_type": "markdown",
   "metadata": {},
   "source": [
    "### 填充"
   ]
  },
  {
   "cell_type": "code",
   "execution_count": null,
   "metadata": {
    "ExecuteTime": {
     "end_time": "2019-05-04T09:06:34.584340Z",
     "start_time": "2019-05-04T09:06:34.578334Z"
    }
   },
   "outputs": [],
   "source": [
    "from mxnet import nd\n",
    "from mxnet.gluon import nn\n",
    "\n",
    "def comp_conv2d(conv2d,X):\n",
    "    conv2d.initialize()\n",
    "    print(X)\n",
    "    X=X.reshape((1,1)+X.shape)\n",
    "    print(X)\n",
    "    Y=conv2d(X)\n",
    "    return Y.reshape(Y.shape[2:])"
   ]
  },
  {
   "cell_type": "code",
   "execution_count": null,
   "metadata": {
    "ExecuteTime": {
     "end_time": "2019-05-04T09:15:17.577834Z",
     "start_time": "2019-05-04T09:15:17.557821Z"
    }
   },
   "outputs": [],
   "source": [
    "##当卷积核的宽与高相同时\n",
    "conv2d=nn.Conv2D(1,kernel_size=3,padding=1)\n",
    "X=nd.random.uniform(shape=(8,8))\n",
    "comp_conv2d(conv2d,X)"
   ]
  },
  {
   "cell_type": "code",
   "execution_count": null,
   "metadata": {
    "ExecuteTime": {
     "end_time": "2019-05-04T09:18:53.530942Z",
     "start_time": "2019-05-04T09:18:53.513929Z"
    }
   },
   "outputs": [],
   "source": [
    "##当卷积核的宽与高不同时\n",
    "conv2d=nn.Conv2D(1,kernel_size=(5,3),padding=(2,1))\n",
    "comp_conv2d(conv2d,X)"
   ]
  },
  {
   "cell_type": "markdown",
   "metadata": {},
   "source": [
    "### 步长"
   ]
  },
  {
   "cell_type": "code",
   "execution_count": null,
   "metadata": {
    "ExecuteTime": {
     "end_time": "2019-05-04T09:27:31.866876Z",
     "start_time": "2019-05-04T09:27:31.847862Z"
    }
   },
   "outputs": [],
   "source": [
    "conv2d=nn.Conv2D(1,kernel_size=3,padding=1,strides=2)\n",
    "comp_conv2d(conv2d,X)"
   ]
  },
  {
   "cell_type": "code",
   "execution_count": null,
   "metadata": {
    "ExecuteTime": {
     "end_time": "2019-05-04T09:55:23.316203Z",
     "start_time": "2019-05-04T09:55:23.296192Z"
    }
   },
   "outputs": [],
   "source": [
    "conv2d=nn.Conv2D(1,kernel_size=(3,5),padding=(0,1),strides=(3,5))\n",
    "comp_conv2d(conv2d,X)\n",
    "##当strides为1时，输出shape为（6,6），所以6/5≈2，因为取不到的值默认为0"
   ]
  },
  {
   "cell_type": "markdown",
   "metadata": {},
   "source": [
    "## 多输入通道及多输出通道"
   ]
  },
  {
   "cell_type": "markdown",
   "metadata": {},
   "source": [
    "### 多输入通道"
   ]
  },
  {
   "cell_type": "code",
   "execution_count": null,
   "metadata": {
    "ExecuteTime": {
     "end_time": "2019-05-04T13:33:16.400822Z",
     "start_time": "2019-05-04T13:33:03.693762Z"
    }
   },
   "outputs": [],
   "source": [
    "from mxnet.gluon import nn\n",
    "from mxnet import nd\n",
    "import d2lzh as d2l"
   ]
  },
  {
   "cell_type": "code",
   "execution_count": null,
   "metadata": {
    "ExecuteTime": {
     "end_time": "2019-05-04T13:38:58.483593Z",
     "start_time": "2019-05-04T13:38:58.478588Z"
    }
   },
   "outputs": [],
   "source": [
    "def corr2d_multi_in(X,K):\n",
    "    return nd.add_n(*[d2l.corr2d(x,k) for x,k in zip(X,K)])"
   ]
  },
  {
   "cell_type": "code",
   "execution_count": null,
   "metadata": {
    "ExecuteTime": {
     "end_time": "2019-05-04T13:38:59.491208Z",
     "start_time": "2019-05-04T13:38:59.083741Z"
    }
   },
   "outputs": [],
   "source": [
    "X = nd.array([[[0, 1, 2], [3, 4, 5], [6, 7, 8]],\n",
    "              [[1, 2, 3], [4, 5, 6], [7, 8, 9]]])\n",
    "K = nd.array([[[0, 1], [2, 3]], [[1, 2], [3, 4]]])\n",
    "\n",
    "corr2d_multi_in(X, K)"
   ]
  },
  {
   "cell_type": "markdown",
   "metadata": {},
   "source": [
    "### 多输出通道"
   ]
  },
  {
   "cell_type": "code",
   "execution_count": null,
   "metadata": {
    "ExecuteTime": {
     "end_time": "2019-05-04T13:49:38.973319Z",
     "start_time": "2019-05-04T13:49:38.969315Z"
    }
   },
   "outputs": [],
   "source": [
    "def corr2d_multi_in_out(X,K):\n",
    "    return nd.stack(*[corr2d_multi_in(X,k) for k in K])"
   ]
  },
  {
   "cell_type": "code",
   "execution_count": null,
   "metadata": {
    "ExecuteTime": {
     "end_time": "2019-05-04T13:50:08.446448Z",
     "start_time": "2019-05-04T13:50:08.244430Z"
    }
   },
   "outputs": [],
   "source": [
    "K = nd.array([[[0, 1], [2, 3]], [[1, 2], [3, 4]]])\n",
    "K=nd.stack(K,K+1,K+2)\n",
    "K.shape"
   ]
  },
  {
   "cell_type": "code",
   "execution_count": null,
   "metadata": {
    "ExecuteTime": {
     "end_time": "2019-05-04T13:50:32.877652Z",
     "start_time": "2019-05-04T13:50:32.855640Z"
    }
   },
   "outputs": [],
   "source": [
    "corr2d_multi_in_out(X,K)"
   ]
  },
  {
   "cell_type": "markdown",
   "metadata": {},
   "source": [
    "### 1X1卷积层"
   ]
  },
  {
   "cell_type": "code",
   "execution_count": null,
   "metadata": {
    "ExecuteTime": {
     "end_time": "2019-05-05T00:37:01.856481Z",
     "start_time": "2019-05-05T00:37:01.850476Z"
    }
   },
   "outputs": [],
   "source": [
    "def corr2d_multi_in_out_1x1(X,K):\n",
    "    c_i,h,w=X.shape\n",
    "    c_o=K.shape[0]\n",
    "    X=X.reshape((c_i,h*w))\n",
    "    K=K.reshape((c_o,c_i))\n",
    "    Y=nd.dot(K,X)\n",
    "    return Y.shape(c_o,h,w)\n",
    "    ## 计算结果与corr2d_multi_in_out是一样的"
   ]
  },
  {
   "cell_type": "markdown",
   "metadata": {},
   "source": [
    "## 池化层"
   ]
  },
  {
   "cell_type": "code",
   "execution_count": null,
   "metadata": {
    "ExecuteTime": {
     "end_time": "2019-05-05T00:43:56.430506Z",
     "start_time": "2019-05-05T00:43:50.445223Z"
    }
   },
   "outputs": [],
   "source": [
    "from mxnet import nd\n",
    "from mxnet.gluon import nn\n",
    "\n",
    "def pool2d(X,pool_size,mode='max'):\n",
    "    p_h,p_w=pool_size\n",
    "    Y=nd.zeros((X.shape[0]-p_h+1,X.shape[1]-p_w+1))\n",
    "    for i in range(Y.shape[0]):\n",
    "        for j in range(Y.shape[1]):\n",
    "            if mode=='max':\n",
    "                Y[i,j]=Y[i:i+p_h, j:j+p_h].max()\n",
    "            if mode=='avg':\n",
    "                Y[i,j]=Y[i:i+p_h, j:j+p_w].mean()\n",
    "    return Y"
   ]
  },
  {
   "cell_type": "code",
   "execution_count": null,
   "metadata": {
    "ExecuteTime": {
     "end_time": "2019-05-05T00:51:03.518921Z",
     "start_time": "2019-05-05T00:51:03.509915Z"
    }
   },
   "outputs": [],
   "source": [
    "X=nd.arange(16).reshape((1,1,4,4))\n",
    "\n",
    "##默认情况下，MaxPool2D实例里步幅和池化窗口形状相同\n",
    "pool2d=nn.MaxPool2D(3)\n",
    "pool2d(X)"
   ]
  },
  {
   "cell_type": "code",
   "execution_count": null,
   "metadata": {
    "ExecuteTime": {
     "end_time": "2019-05-05T01:02:48.539115Z",
     "start_time": "2019-05-05T01:02:48.530109Z"
    }
   },
   "outputs": [],
   "source": [
    "##也可以指定步长和填充\n",
    "pool2d=nn.MaxPool2D(3,padding=1,strides=2)\n",
    "pool2d(X)"
   ]
  },
  {
   "cell_type": "code",
   "execution_count": null,
   "metadata": {
    "ExecuteTime": {
     "end_time": "2019-05-05T01:06:06.291081Z",
     "start_time": "2019-05-05T01:06:06.280075Z"
    }
   },
   "outputs": [],
   "source": [
    "##可以指定非正方形的池化窗口\n",
    "pool2d=nn.MaxPool2D((2,3),padding=(1,2),strides=(2,3))\n",
    "pool2d(X)"
   ]
  },
  {
   "cell_type": "code",
   "execution_count": null,
   "metadata": {
    "ExecuteTime": {
     "end_time": "2019-05-05T02:03:09.803419Z",
     "start_time": "2019-05-05T02:03:09.799416Z"
    }
   },
   "outputs": [],
   "source": [
    "##多通道的池化\n",
    "##在处理多通道输入数据时，池化层对每个输入通道分别池化，而不是像卷积层那样将各通道的输入按通道相加。\n",
    "##这意味着池化层的输出通道数与输入通道数相等。"
   ]
  },
  {
   "cell_type": "code",
   "execution_count": null,
   "metadata": {
    "ExecuteTime": {
     "end_time": "2019-05-05T02:03:58.451991Z",
     "start_time": "2019-05-05T02:03:58.039541Z"
    }
   },
   "outputs": [],
   "source": [
    "X=nd.concat(X,X+1,dim=1)\n",
    "X"
   ]
  },
  {
   "cell_type": "code",
   "execution_count": null,
   "metadata": {
    "ExecuteTime": {
     "end_time": "2019-05-05T02:04:54.158196Z",
     "start_time": "2019-05-05T02:04:54.151192Z"
    }
   },
   "outputs": [],
   "source": [
    "pool2d=nn.MaxPool2D(3,padding=1,strides=2)\n",
    "pool2d(X)"
   ]
  },
  {
   "cell_type": "markdown",
   "metadata": {},
   "source": [
    "## 卷积神经网络LeNet"
   ]
  },
  {
   "cell_type": "markdown",
   "metadata": {},
   "source": [
    "卷积层块⾥的基本单位是卷积层后接最⼤池化层：卷积层⽤来识别图像⾥的空间模式，最大池化层用来降低卷积层对位置的敏感性"
   ]
  },
  {
   "cell_type": "markdown",
   "metadata": {},
   "source": [
    "### 构建模型"
   ]
  },
  {
   "cell_type": "code",
   "execution_count": 1,
   "metadata": {
    "ExecuteTime": {
     "end_time": "2019-05-05T05:54:38.464931Z",
     "start_time": "2019-05-05T05:54:37.516554Z"
    }
   },
   "outputs": [],
   "source": [
    "from mxnet.gluon import loss as gloss,nn\n",
    "from mxnet import autograd as ag, nd, init, gluon\n",
    "import d2lzh as d2l"
   ]
  },
  {
   "cell_type": "code",
   "execution_count": 22,
   "metadata": {
    "ExecuteTime": {
     "end_time": "2019-05-05T11:17:54.223210Z",
     "start_time": "2019-05-05T11:17:54.206198Z"
    }
   },
   "outputs": [],
   "source": [
    "net=nn.Sequential()\n",
    "net.add(nn.Conv2D(channels=6, kernel_size=5, activation=\"sigmoid\"),\n",
    "        nn.MaxPool2D(pool_size=2, strides=2),\n",
    "        nn.Conv2D(channels=3, kernel_size=5, activation='sigmoid'),\n",
    "        nn.MaxPool2D(pool_size=2, strides=2),\n",
    "        ##Dense会默认把批量大小*通道*高*宽的输入转化为（批量大小，通道*高*宽）\n",
    "        nn.Dense(120, activation='sigmoid'),\n",
    "        nn.Dense(84, activation=\"sigmoid\"),\n",
    "        nn.Dense(10))"
   ]
  },
  {
   "cell_type": "code",
   "execution_count": 33,
   "metadata": {
    "ExecuteTime": {
     "end_time": "2019-05-05T11:52:35.736102Z",
     "start_time": "2019-05-05T11:52:35.725095Z"
    }
   },
   "outputs": [],
   "source": [
    "net=nn.Sequential()\n",
    "net.add(nn.Conv2D(channels=6, kernel_size=5, activation='sigmoid'),\n",
    "       nn.MaxPool2D(pool_size=2, strides=2),\n",
    "       nn.Conv2D(channels=16, kernel_size=5, activation='sigmoid'),\n",
    "       nn.MaxPool2D(pool_size=2, strides=2),\n",
    "       nn.Dense(256, activation='sigmoid'),\n",
    "       nn.Dense(84, activation='sigmoid'),\n",
    "       nn.Dense(10))"
   ]
  },
  {
   "cell_type": "code",
   "execution_count": 34,
   "metadata": {
    "ExecuteTime": {
     "end_time": "2019-05-05T11:52:37.337093Z",
     "start_time": "2019-05-05T11:52:37.325085Z"
    }
   },
   "outputs": [],
   "source": [
    "X=nd.random.uniform(shape=(1,1,28,28))\n",
    "net.initialize()"
   ]
  },
  {
   "cell_type": "code",
   "execution_count": 35,
   "metadata": {
    "ExecuteTime": {
     "end_time": "2019-05-05T11:52:37.992224Z",
     "start_time": "2019-05-05T11:52:37.970209Z"
    }
   },
   "outputs": [
    {
     "name": "stdout",
     "output_type": "stream",
     "text": [
      "conv4 (1, 6, 24, 24)\n",
      "pool4 (1, 6, 12, 12)\n",
      "conv5 (1, 16, 8, 8)\n",
      "pool5 (1, 16, 4, 4)\n",
      "dense6 (1, 256)\n",
      "dense7 (1, 84)\n",
      "dense8 (1, 10)\n"
     ]
    }
   ],
   "source": [
    "for layer in net:\n",
    "    X=layer(X)\n",
    "    print(layer.name, X.shape)"
   ]
  },
  {
   "cell_type": "markdown",
   "metadata": {},
   "source": [
    "### 训练模型"
   ]
  },
  {
   "cell_type": "code",
   "execution_count": 36,
   "metadata": {
    "ExecuteTime": {
     "end_time": "2019-05-05T11:52:56.900114Z",
     "start_time": "2019-05-05T11:52:55.543733Z"
    }
   },
   "outputs": [],
   "source": [
    "batch_size=256\n",
    "train_iter,test_iter=d2l.load_data_fashion_mnist(batch_size=batch_size)"
   ]
  },
  {
   "cell_type": "code",
   "execution_count": 37,
   "metadata": {
    "ExecuteTime": {
     "end_time": "2019-05-05T11:52:57.017192Z",
     "start_time": "2019-05-05T11:52:57.011188Z"
    }
   },
   "outputs": [],
   "source": [
    "def evaluate_accuracy(data_iter,net):\n",
    "    n,acc_sum=0,0.0##若将该初始化放到for循环内，将使得每batch_size就归零\n",
    "    for X,y in data_iter:\n",
    "        y_hat=net(X)\n",
    "        y=y.astype('float32')\n",
    "        acc_sum+=(y==y_hat.argmax(axis=1)).sum().asscalar()\n",
    "        n+=y.size\n",
    "    return acc_sum/n"
   ]
  },
  {
   "cell_type": "code",
   "execution_count": 38,
   "metadata": {
    "ExecuteTime": {
     "end_time": "2019-05-05T11:55:57.847241Z",
     "start_time": "2019-05-05T11:52:57.109254Z"
    }
   },
   "outputs": [
    {
     "name": "stdout",
     "output_type": "stream",
     "text": [
      "N0.1, train_acc:0.101 , test_acc:0.100 \n",
      "N0.2, train_acc:0.261 , test_acc:0.550 \n",
      "N0.3, train_acc:0.617 , test_acc:0.686 \n",
      "N0.4, train_acc:0.701 , test_acc:0.700 \n",
      "N0.5, train_acc:0.735 , test_acc:0.761 \n"
     ]
    }
   ],
   "source": [
    "def entropy_loss(y_hat,y):\n",
    "    ##由于神经网络的前向计算和交叉熵是分开算的，所以容易出现溢出\n",
    "    return -nd.pick(y_hat,y).log()\n",
    "\n",
    "def sgd(lr,params,batch_size):\n",
    "    for param in params:\n",
    "        param[:]-=lr*param.grad/batch_size\n",
    "\n",
    "def train_ch5(net,train_iter,test_iter,trainer,lr,num_epochs,batch_size):\n",
    "    loss=gloss.SoftmaxCrossEntropyLoss()\n",
    "    for epoch in range(num_epochs):\n",
    "        n,train_acc=0,0.0\n",
    "        for X,y in train_iter:\n",
    "            with ag.record():\n",
    "                y_hat=net(X)\n",
    "                l=loss(y_hat,y).sum()\n",
    "            ##print(entropy_loss(y_hat,y).sum().asscalar())\n",
    "            ##从该语句可以发现，存在溢出\n",
    "            l.backward()\n",
    "            ##trainer(lr,net.collect_params(),batch_size)##\n",
    "            ##卷积神经网络出来的参数是特殊的参数字典，此处直接用gluon自带的trainer函数##\n",
    "            trainer.step(batch_size)\n",
    "            y=y.astype(\"float32\")\n",
    "            train_acc+=(y_hat.argmax(axis=1)==y).sum().asscalar()##此处若将y_hat用net(X)代替，参数将仍是原来参数\n",
    "            n+=y.size\n",
    "        test_acc=evaluate_accuracy(test_iter,net)\n",
    "        print('N0.%d, train_acc:%.3f , test_acc:%.3f '%(epoch+1,train_acc/n,test_acc))\n",
    "\n",
    "net.initialize(force_reinit=True,init=init.Xavier())\n",
    "lr,num_epochs=0.9,5\n",
    "trainer=gluon.Trainer(net.collect_params(),'sgd',{'learning_rate':lr})\n",
    "train_ch5(net,train_iter,test_iter,trainer,lr,num_epochs,batch_size)"
   ]
  },
  {
   "cell_type": "code",
   "execution_count": null,
   "metadata": {
    "ExecuteTime": {
     "end_time": "2019-05-05T05:55:20.109183Z",
     "start_time": "2019-05-05T05:54:42.005Z"
    }
   },
   "outputs": [],
   "source": [
    "gluon.Trainer??"
   ]
  },
  {
   "cell_type": "code",
   "execution_count": 21,
   "metadata": {
    "ExecuteTime": {
     "end_time": "2019-05-05T11:13:02.134996Z",
     "start_time": "2019-05-05T11:13:01.727627Z"
    }
   },
   "outputs": [],
   "source": [
    "gloss.SoftmaxCrossEntropyLoss??"
   ]
  },
  {
   "cell_type": "markdown",
   "metadata": {},
   "source": [
    "## 深度神经网络AlexNet"
   ]
  },
  {
   "cell_type": "code",
   "execution_count": null,
   "metadata": {},
   "outputs": [],
   "source": []
  }
 ],
 "metadata": {
  "kernelspec": {
   "display_name": "gluon",
   "language": "python",
   "name": "gluon"
  },
  "language_info": {
   "codemirror_mode": {
    "name": "ipython",
    "version": 3
   },
   "file_extension": ".py",
   "mimetype": "text/x-python",
   "name": "python",
   "nbconvert_exporter": "python",
   "pygments_lexer": "ipython3",
   "version": "3.6.8"
  },
  "latex_envs": {
   "LaTeX_envs_menu_present": true,
   "autoclose": false,
   "autocomplete": true,
   "bibliofile": "biblio.bib",
   "cite_by": "apalike",
   "current_citInitial": 1,
   "eqLabelWithNumbers": true,
   "eqNumInitial": 1,
   "hotkeys": {
    "equation": "Ctrl-E",
    "itemize": "Ctrl-I"
   },
   "labels_anchors": false,
   "latex_user_defs": false,
   "report_style_numbering": false,
   "user_envs_cfg": false
  },
  "toc": {
   "base_numbering": 1,
   "nav_menu": {},
   "number_sections": true,
   "sideBar": true,
   "skip_h1_title": false,
   "title_cell": "Table of Contents",
   "title_sidebar": "Contents",
   "toc_cell": false,
   "toc_position": {},
   "toc_section_display": true,
   "toc_window_display": false
  },
  "varInspector": {
   "cols": {
    "lenName": 16,
    "lenType": 16,
    "lenVar": 40
   },
   "kernels_config": {
    "python": {
     "delete_cmd_postfix": "",
     "delete_cmd_prefix": "del ",
     "library": "var_list.py",
     "varRefreshCmd": "print(var_dic_list())"
    },
    "r": {
     "delete_cmd_postfix": ") ",
     "delete_cmd_prefix": "rm(",
     "library": "var_list.r",
     "varRefreshCmd": "cat(var_dic_list()) "
    }
   },
   "types_to_exclude": [
    "module",
    "function",
    "builtin_function_or_method",
    "instance",
    "_Feature"
   ],
   "window_display": false
  }
 },
 "nbformat": 4,
 "nbformat_minor": 2
}
