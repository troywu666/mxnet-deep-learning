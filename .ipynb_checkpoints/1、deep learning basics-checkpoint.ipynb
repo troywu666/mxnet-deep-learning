{
 "cells": [
  {
   "cell_type": "markdown",
   "metadata": {},
   "source": [
    "# 用线性回归函数构建单层神经网络"
   ]
  },
  {
   "cell_type": "code",
   "execution_count": null,
   "metadata": {
    "ExecuteTime": {
     "end_time": "2019-04-21T03:27:20.094523Z",
     "start_time": "2019-04-21T03:27:00.261749Z"
    }
   },
   "outputs": [],
   "source": [
    "from mxnet import nd\n",
    "from mxnet import autograd as ag"
   ]
  },
  {
   "cell_type": "code",
   "execution_count": null,
   "metadata": {
    "ExecuteTime": {
     "end_time": "2019-04-21T03:27:21.278266Z",
     "start_time": "2019-04-21T03:27:20.112764Z"
    }
   },
   "outputs": [],
   "source": [
    "num_exanples=1000\n",
    "num_inputs=2\n",
    "true_w=[2,-3.4]\n",
    "true_b=4.2\n",
    "features=nd.random.normal(scale=1,shape=(num_exanples,num_inputs))\n",
    "labels=features[ : ,0]*true_w[0]+features[ : ,1]*true_w[1]+true_b\n",
    "noise=nd.random.normal(scale=0.01,shape=(labels.shape))\n",
    "labels+=noise"
   ]
  },
  {
   "cell_type": "code",
   "execution_count": null,
   "metadata": {
    "ExecuteTime": {
     "end_time": "2019-04-21T03:27:22.015972Z",
     "start_time": "2019-04-21T03:27:21.765937Z"
    }
   },
   "outputs": [],
   "source": [
    "len(features)"
   ]
  },
  {
   "cell_type": "code",
   "execution_count": null,
   "metadata": {
    "ExecuteTime": {
     "end_time": "2019-04-21T03:27:22.555678Z",
     "start_time": "2019-04-21T03:27:22.153990Z"
    }
   },
   "outputs": [],
   "source": [
    "features,labels"
   ]
  },
  {
   "cell_type": "code",
   "execution_count": null,
   "metadata": {
    "ExecuteTime": {
     "end_time": "2019-04-21T03:28:04.434384Z",
     "start_time": "2019-04-21T03:28:02.040901Z"
    },
    "scrolled": true
   },
   "outputs": [],
   "source": [
    "from IPython import display\n",
    "def use_svg_display():\n",
    "    display.set_matplotlib_formats('svg')\n",
    "    \n",
    "def set_figsize(figsize=(3.5,2.5)):\n",
    "    use_svg_display()\n",
    "    plt.rcParams['figure.figsize']=figsize\n",
    "    \n",
    "import matplotlib.pyplot as plt\n",
    "%matplotlib inline\n",
    "set_figsize()\n",
    "plt.scatter(features[ : ,1].asnumpy() ,labels.asnumpy(),1)"
   ]
  },
  {
   "cell_type": "code",
   "execution_count": null,
   "metadata": {
    "ExecuteTime": {
     "end_time": "2019-04-21T03:28:10.741226Z",
     "start_time": "2019-04-21T03:28:10.713009Z"
    }
   },
   "outputs": [],
   "source": [
    "import random\n",
    "def data_iter(batch_size,features,labels):\n",
    "    num_examples=len(features)\n",
    "    indices=list(range(num_examples))\n",
    "    random.shuffle(indices)\n",
    "    for i in range(0,num_examples,batch_size):\n",
    "        j=nd.array(indices[i:min(i+batch_size,num_examples)])\n",
    "        yield features.take(j),labels.take(j)##根据索引返回相应函数"
   ]
  },
  {
   "cell_type": "code",
   "execution_count": null,
   "metadata": {
    "ExecuteTime": {
     "end_time": "2019-04-21T03:28:11.830007Z",
     "start_time": "2019-04-21T03:28:10.842291Z"
    }
   },
   "outputs": [],
   "source": [
    "features.take(nd.array([1]))"
   ]
  },
  {
   "cell_type": "code",
   "execution_count": null,
   "metadata": {
    "ExecuteTime": {
     "end_time": "2019-04-21T03:28:12.116034Z",
     "start_time": "2019-04-21T03:28:11.940886Z"
    }
   },
   "outputs": [],
   "source": [
    "batch_size=10\n",
    "for x,y in data_iter(batch_size,features,labels):\n",
    "    print(x,y)\n",
    "    break"
   ]
  },
  {
   "cell_type": "code",
   "execution_count": null,
   "metadata": {
    "ExecuteTime": {
     "end_time": "2019-04-21T03:51:18.796373Z",
     "start_time": "2019-04-21T03:51:18.788369Z"
    }
   },
   "outputs": [],
   "source": [
    "w=nd.random.normal(scale=0.01,shape=(num_inputs,1))\n",
    "b=nd.zeros(shape=(1,))"
   ]
  },
  {
   "cell_type": "code",
   "execution_count": null,
   "metadata": {
    "ExecuteTime": {
     "end_time": "2019-04-21T03:51:24.901506Z",
     "start_time": "2019-04-21T03:51:24.896503Z"
    }
   },
   "outputs": [],
   "source": [
    "w.attach_grad()\n",
    "b.attach_grad()"
   ]
  },
  {
   "cell_type": "code",
   "execution_count": null,
   "metadata": {
    "ExecuteTime": {
     "end_time": "2019-04-21T03:49:37.558301Z",
     "start_time": "2019-04-21T03:49:37.548798Z"
    }
   },
   "outputs": [],
   "source": [
    "def square_loss(y,y_hat):\n",
    "    return (y.reshape(y_hat.shape)-y_hat)**2/2\n",
    "\n",
    "def sgd(params,batch_size,lr):\n",
    "    for param in params:\n",
    "        param[:]-=lr*param.grad/batch_size##[:]是将内容传送到新地址\n",
    "        \n",
    "def linreg(x,w,b):\n",
    "    return nd.dot(x,w)+b"
   ]
  },
  {
   "cell_type": "code",
   "execution_count": null,
   "metadata": {
    "ExecuteTime": {
     "end_time": "2019-04-21T03:51:28.804883Z",
     "start_time": "2019-04-21T03:51:27.799716Z"
    }
   },
   "outputs": [],
   "source": [
    "loss=square_loss\n",
    "net=linreg\n",
    "epoch=5\n",
    "lr=0.03\n",
    "\n",
    "for i in range(epoch):\n",
    "    for x,y in data_iter(batch_size,features,labels):\n",
    "        with ag.record():\n",
    "            loss(y,net(x,w,b)).sum().backward()\n",
    "        sgd([w,b],batch_size,lr)        \n",
    "    l=loss(labels,net(features,w,b))\n",
    "    print(\"epoch%d  :  loss=%f\"%(i+1,l.mean().asnumpy()))"
   ]
  },
  {
   "cell_type": "code",
   "execution_count": null,
   "metadata": {
    "ExecuteTime": {
     "end_time": "2019-04-21T05:15:01.632865Z",
     "start_time": "2019-04-21T05:15:01.622859Z"
    }
   },
   "outputs": [],
   "source": [
    "print(true_w,w)\n",
    "print(true_b,b)"
   ]
  },
  {
   "cell_type": "code",
   "execution_count": null,
   "metadata": {},
   "outputs": [],
   "source": []
  },
  {
   "cell_type": "markdown",
   "metadata": {},
   "source": [
    "# 用softmax函数构建单层神经网络"
   ]
  },
  {
   "cell_type": "code",
   "execution_count": null,
   "metadata": {
    "ExecuteTime": {
     "end_time": "2019-04-23T13:13:36.529982Z",
     "start_time": "2019-04-23T13:13:31.815419Z"
    }
   },
   "outputs": [],
   "source": [
    "import d2lzh as d2l\n",
    "from mxnet import nd\n",
    "from mxnet import autograd as ag\n",
    "\n",
    "batch_size=256\n",
    "train_iter,test_iter =d2l.load_data_fashion_mnist(batch_size)"
   ]
  },
  {
   "cell_type": "code",
   "execution_count": null,
   "metadata": {
    "ExecuteTime": {
     "end_time": "2019-04-23T13:15:33.163307Z",
     "start_time": "2019-04-23T13:15:33.156305Z"
    }
   },
   "outputs": [],
   "source": [
    "num_inputs=28*28\n",
    "num_outputs=10\n",
    "\n",
    "w=nd.random.normal(scale=0.01,shape=(num_inputs,num_outputs))\n",
    "b=nd.zeros(shape=num_outputs)\n",
    "\n",
    "w.attach_grad()\n",
    "b.attach_grad()"
   ]
  },
  {
   "cell_type": "code",
   "execution_count": null,
   "metadata": {
    "ExecuteTime": {
     "end_time": "2019-04-23T13:13:37.028074Z",
     "start_time": "2019-04-23T13:13:36.845193Z"
    }
   },
   "outputs": [],
   "source": [
    "def Softmax(X):\n",
    "    X_exp=X.exp()\n",
    "    X_exp_sum=X_exp.sum(axis=1,keepdims=True)\n",
    "    return X_exp/X_exp_sum"
   ]
  },
  {
   "cell_type": "code",
   "execution_count": null,
   "metadata": {
    "ExecuteTime": {
     "end_time": "2019-04-23T13:13:37.380895Z",
     "start_time": "2019-04-23T13:13:37.201191Z"
    }
   },
   "outputs": [],
   "source": [
    "X=nd.random.normal(shape=(2,5))\n",
    "X_prob=Softmax(X)\n",
    "X_prob,X_prob.sum(axis=1)"
   ]
  },
  {
   "cell_type": "code",
   "execution_count": null,
   "metadata": {
    "ExecuteTime": {
     "end_time": "2019-04-23T13:13:37.702075Z",
     "start_time": "2019-04-23T13:13:37.697072Z"
    }
   },
   "outputs": [],
   "source": [
    "def net(X):\n",
    "    return Softmax(nd.dot(X.reshape(-1,num_inputs),w)+b)"
   ]
  },
  {
   "cell_type": "code",
   "execution_count": null,
   "metadata": {
    "ExecuteTime": {
     "end_time": "2019-04-23T13:13:38.377657Z",
     "start_time": "2019-04-23T13:13:38.372655Z"
    }
   },
   "outputs": [],
   "source": [
    "def cross_entropy(y_hat,y):\n",
    "    return -nd.pick(y_hat,y).log()"
   ]
  },
  {
   "cell_type": "code",
   "execution_count": null,
   "metadata": {
    "ExecuteTime": {
     "end_time": "2019-04-23T13:13:39.031155Z",
     "start_time": "2019-04-23T13:13:39.024151Z"
    }
   },
   "outputs": [],
   "source": [
    "def evaluate_accuracy(data_iter,net):\n",
    "    acc_sum,n=0.0,0\n",
    "    for x,y in data_iter:\n",
    "        y_hat=net(x)\n",
    "        y=y.astype('float32')\n",
    "        acc_sum+=((y_hat.argmax(axis=1))==y).sum().asscalar()\n",
    "        n+=y.size\n",
    "    return acc_sum/n"
   ]
  },
  {
   "cell_type": "code",
   "execution_count": null,
   "metadata": {
    "ExecuteTime": {
     "end_time": "2019-04-23T13:13:41.370742Z",
     "start_time": "2019-04-23T13:13:40.210971Z"
    }
   },
   "outputs": [],
   "source": [
    "evaluate_accuracy(test_iter,net)"
   ]
  },
  {
   "cell_type": "code",
   "execution_count": null,
   "metadata": {
    "ExecuteTime": {
     "end_time": "2019-04-23T13:13:41.701576Z",
     "start_time": "2019-04-23T13:13:41.695572Z"
    }
   },
   "outputs": [],
   "source": [
    "def sgd(params,lr,batch_size):    \n",
    "    for param in params:\n",
    "        param[:]-=lr*param.grad/batch_size"
   ]
  },
  {
   "cell_type": "code",
   "execution_count": null,
   "metadata": {
    "ExecuteTime": {
     "end_time": "2019-04-23T13:20:35.668558Z",
     "start_time": "2019-04-23T13:19:10.133706Z"
    },
    "code_folding": []
   },
   "outputs": [],
   "source": [
    "n=0.0\n",
    "lr=0.1\n",
    "epochs=10\n",
    "def train_ch3(net,train_iter,test_iter,loss,epochs,batch_size,w,b,lr,trainer):\n",
    "    for epoch in range(epochs):\n",
    "        train_loss,train_accuracy,n=0.0,0.0,0\n",
    "        for x,y in train_iter: \n",
    "            with ag.record():\n",
    "                l=loss(net(x),y).sum()\n",
    "            l.backward()\n",
    "            n+=y.size\n",
    "            trainer([w,b],lr,batch_size)\n",
    "            train_loss+=l.asscalar()\n",
    "            y=y.astype(\"float32\")\n",
    "            train_accuracy+=(net(x).argmax(axis=1)==y).sum().asscalar()\n",
    "        test_accuracy=evaluate_accuracy(test_iter,net)\n",
    "        print(\"NO.%s :train_loss: %.4f, train_accuracy: %.4f, test_accuracy: %.4f\"%(epoch+1,train_loss/n,train_accuracy/n,test_accuracy))\n",
    "train_ch3(net,train_iter,test_iter,cross_entropy,epochs,batch_size,w,b,lr,sgd)"
   ]
  },
  {
   "cell_type": "code",
   "execution_count": null,
   "metadata": {
    "ExecuteTime": {
     "end_time": "2019-04-23T13:23:36.405583Z",
     "start_time": "2019-04-23T13:23:35.989309Z"
    }
   },
   "outputs": [],
   "source": [
    "for x,y in test_iter:\n",
    "    true_labels=d2l.get_fashion_mnist_labels(y.asnumpy())\n",
    "    pred_labels=d2l.get_fashion_mnist_labels(net(x).argmax(axis=1).asnumpy())\n",
    "    titles=[true+\"\\n\"+pred for true,pred in zip(true_labels,pred_labels)]\n",
    "    d2l.show_fashion_mnist(x[0:9],titles[0:9])\n",
    "    break"
   ]
  },
  {
   "cell_type": "code",
   "execution_count": null,
   "metadata": {},
   "outputs": [],
   "source": []
  },
  {
   "cell_type": "markdown",
   "metadata": {},
   "source": [
    "# 多层感知机"
   ]
  },
  {
   "cell_type": "code",
   "execution_count": null,
   "metadata": {
    "ExecuteTime": {
     "end_time": "2019-04-25T12:21:01.430264Z",
     "start_time": "2019-04-25T12:20:44.051505Z"
    }
   },
   "outputs": [],
   "source": [
    "from mxnet import autograd as ag\n",
    "from mxnet import ndarray as nd\n",
    "import d2lzh as d2l"
   ]
  },
  {
   "cell_type": "code",
   "execution_count": null,
   "metadata": {
    "ExecuteTime": {
     "end_time": "2019-04-25T14:53:26.513938Z",
     "start_time": "2019-04-25T14:53:25.797439Z"
    }
   },
   "outputs": [],
   "source": [
    "batch_size=256\n",
    "train_iter,test_iter=d2l.load_data_fashion_mnist(batch_size)"
   ]
  },
  {
   "cell_type": "code",
   "execution_count": null,
   "metadata": {
    "ExecuteTime": {
     "end_time": "2019-04-25T14:57:48.649401Z",
     "start_time": "2019-04-25T14:57:48.640395Z"
    }
   },
   "outputs": [],
   "source": [
    "num_inputs,num_outputs,num_hiddens=28*28,10,256\n",
    "\n",
    "w1=nd.random.normal(scale=0.01,shape=(num_inputs,num_hiddens))\n",
    "b1=nd.zeros(num_hiddens)\n",
    "w2=nd.random.normal(scale=0.01,shape=(num_hiddens,num_outputs))\n",
    "b2=nd.zeros(num_outputs)\n",
    "\n",
    "for param in [w1,b1,w2,b2]:\n",
    "    param.attach_grad()"
   ]
  },
  {
   "cell_type": "code",
   "execution_count": null,
   "metadata": {
    "ExecuteTime": {
     "end_time": "2019-04-25T14:57:50.167518Z",
     "start_time": "2019-04-25T14:57:50.163515Z"
    }
   },
   "outputs": [],
   "source": [
    "def relu(X):\n",
    "    return nd.maximum(X,0)"
   ]
  },
  {
   "cell_type": "code",
   "execution_count": null,
   "metadata": {
    "ExecuteTime": {
     "end_time": "2019-04-25T14:57:54.381390Z",
     "start_time": "2019-04-25T14:57:54.374386Z"
    }
   },
   "outputs": [],
   "source": [
    "def Softmax(X):\n",
    "    X_sum_exp=X.exp().sum(axis=1,keepdims=True)##重要容易出错信息,keepdims用于保持维度特性\n",
    "    return X.exp()/X_sum_exp\n",
    "\n",
    "def net(X):\n",
    "    X=X.reshape(-1,num_inputs)\n",
    "    H1=relu(nd.dot(X,w1)+b1)\n",
    "    return Softmax(nd.dot(H1,w2)+b2)"
   ]
  },
  {
   "cell_type": "code",
   "execution_count": null,
   "metadata": {
    "ExecuteTime": {
     "end_time": "2019-04-25T14:57:55.259814Z",
     "start_time": "2019-04-25T14:57:55.253809Z"
    }
   },
   "outputs": [],
   "source": [
    "def cross_entropy(y_hat,y):\n",
    "    return -nd.pick(y_hat,y).log()"
   ]
  },
  {
   "cell_type": "code",
   "execution_count": null,
   "metadata": {
    "ExecuteTime": {
     "end_time": "2019-04-25T14:58:02.178314Z",
     "start_time": "2019-04-25T14:58:02.171310Z"
    }
   },
   "outputs": [],
   "source": [
    "def evaluate_accuracy(data_iter,net):\n",
    "    corr,n=0.0,0\n",
    "    for X,y in data_iter:\n",
    "        y=y.astype(\"float32\")\n",
    "        y_hat=net(X)\n",
    "        corr+=(y_hat.argmax(axis=1)==y).sum().asscalar()\n",
    "        n+=y.size\n",
    "    return corr/n"
   ]
  },
  {
   "cell_type": "code",
   "execution_count": null,
   "metadata": {
    "ExecuteTime": {
     "end_time": "2019-04-25T14:58:03.025121Z",
     "start_time": "2019-04-25T14:58:03.020119Z"
    }
   },
   "outputs": [],
   "source": [
    "def sgd(params,lr,batch_size):\n",
    "    for param in params:\n",
    "        param[:]-=lr*param.grad/batch_size"
   ]
  },
  {
   "cell_type": "code",
   "execution_count": null,
   "metadata": {
    "ExecuteTime": {
     "end_time": "2019-04-25T14:59:50.887960Z",
     "start_time": "2019-04-25T14:58:04.351062Z"
    }
   },
   "outputs": [],
   "source": [
    "def train_ch3(train_iter,test_iter,batch_size,lr,net,params,epochs,loss,trainer):\n",
    "    for epoch in range(epochs):\n",
    "        for X,y in train_iter:\n",
    "            y=y.astype(\"float32\")\n",
    "            n,train_cross_enropy,train_acc=0,0.0,0.0\n",
    "            with ag.record():\n",
    "                l=loss(net(X),y).sum()\n",
    "            l.backward()\n",
    "            trainer(params,lr,batch_size)\n",
    "            n+=y.size\n",
    "            train_cross_enropy+=l.asscalar()\n",
    "            train_acc+=(net(X).argmax(axis=1)==y).sum().asscalar()\n",
    "        test_acc=evaluate_accuracy(test_iter,net)\n",
    "        print(\"NO.%s ,train_loss is %.3f, train_acc is %.4f, test_acc is %.4f\"%(epoch+1,train_cross_enropy/n,train_acc/n,test_acc))\n",
    "    \n",
    "batch_size,lr,epochs=256,0.5,10\n",
    "train_ch3(train_iter,test_iter,batch_size,lr,net,[w1,b1,w2,b2],epochs,cross_entropy,sgd)"
   ]
  },
  {
   "cell_type": "code",
   "execution_count": null,
   "metadata": {
    "ExecuteTime": {
     "end_time": "2019-04-25T15:00:06.956462Z",
     "start_time": "2019-04-25T15:00:06.944454Z"
    }
   },
   "outputs": [],
   "source": [
    "?nd.sum"
   ]
  },
  {
   "cell_type": "markdown",
   "metadata": {},
   "source": [
    "# 正则化"
   ]
  },
  {
   "cell_type": "markdown",
   "metadata": {},
   "source": [
    "## 权重衰减（L2范数）"
   ]
  },
  {
   "cell_type": "code",
   "execution_count": null,
   "metadata": {
    "ExecuteTime": {
     "end_time": "2019-04-27T10:56:47.940163Z",
     "start_time": "2019-04-27T10:56:37.837377Z"
    }
   },
   "outputs": [],
   "source": [
    "from mxnet import autograd as ag\n",
    "from mxnet import nd"
   ]
  },
  {
   "cell_type": "code",
   "execution_count": null,
   "metadata": {
    "ExecuteTime": {
     "end_time": "2019-04-27T11:00:23.967831Z",
     "start_time": "2019-04-27T11:00:23.954822Z"
    }
   },
   "outputs": [],
   "source": [
    "def sgd(params,lr,batch_size):\n",
    "    for param in params:\n",
    "        param[:]-=lr*param.grad/batch_size"
   ]
  },
  {
   "cell_type": "code",
   "execution_count": null,
   "metadata": {
    "ExecuteTime": {
     "end_time": "2019-04-27T11:10:22.629178Z",
     "start_time": "2019-04-27T11:10:22.625175Z"
    }
   },
   "outputs": [],
   "source": [
    "def l2_penalty(w):\n",
    "    return (w**2).sum()/2"
   ]
  },
  {
   "cell_type": "code",
   "execution_count": null,
   "metadata": {
    "ExecuteTime": {
     "end_time": "2019-04-27T11:18:18.531502Z",
     "start_time": "2019-04-27T11:18:18.515491Z"
    }
   },
   "outputs": [],
   "source": [
    "def entropy_loss(y_hat,y):\n",
    "    return -nd.pick(y_hat,y).log().sum()"
   ]
  },
  {
   "cell_type": "code",
   "execution_count": null,
   "metadata": {
    "ExecuteTime": {
     "end_time": "2019-04-27T11:50:19.306987Z",
     "start_time": "2019-04-27T11:50:19.287969Z"
    }
   },
   "outputs": [],
   "source": [
    "def evaluate_accuracy(data_iter,net):\n",
    "    acc,n=0.0,0\n",
    "    for X,y in data_iter:\n",
    "        y=y.astype('float32')\n",
    "        acc+=(net(X).argmax(axis=1)==y).sum().asscalar()\n",
    "        n+=y.size\n",
    "    return acc/n"
   ]
  },
  {
   "cell_type": "code",
   "execution_count": null,
   "metadata": {
    "ExecuteTime": {
     "end_time": "2019-04-27T12:15:36.916693Z",
     "start_time": "2019-04-27T12:15:36.903090Z"
    }
   },
   "outputs": [],
   "source": [
    "def trainer_ch3(batch_size,lr,train_iter,test_iter,net,train,epochs,loss,l2_penalty,params):\n",
    "    for epoch in range(epochs):\n",
    "        acc_train,n=0.0,0\n",
    "        for X,y in train_iter:\n",
    "            y_hat=net(X)\n",
    "            with ag.record():\n",
    "                l=loss+l2_penalty(params[0])\n",
    "            l.backward()\n",
    "            sgd(params,lr,batch_size)\n",
    "            n+=y.size\n",
    "            train_acc+=(y_hat.rgmax(axis=1)==y).sum().asscalar()\n",
    "        test_acc=evaluate_accuracy(test_iter,net)\n",
    "        print(\"NO.%d: train_loss=%.3f, test_loss=\"%(epoch+1,train_acc/n,test_acc))            "
   ]
  },
  {
   "cell_type": "markdown",
   "metadata": {},
   "source": [
    "## Dropout法"
   ]
  },
  {
   "cell_type": "code",
   "execution_count": null,
   "metadata": {
    "ExecuteTime": {
     "end_time": "2019-04-27T16:45:47.746275Z",
     "start_time": "2019-04-27T16:45:47.200447Z"
    }
   },
   "outputs": [],
   "source": [
    "from mxnet import autograd as ag\n",
    "from mxnet import nd"
   ]
  },
  {
   "cell_type": "code",
   "execution_count": null,
   "metadata": {
    "ExecuteTime": {
     "end_time": "2019-04-27T16:52:29.632470Z",
     "start_time": "2019-04-27T16:52:29.543402Z"
    }
   },
   "outputs": [],
   "source": [
    "def dropout(X,drop_prob):\n",
    "    assert 0<=drop_prob<=1\n",
    "    keep_prob=1-drop_prob\n",
    "    if keep_prob ==0:\n",
    "        return X.zeros_like()\n",
    "    mask=nd.random.uniform(0,1,X.shape)<keep_prob\n",
    "    return mask*X/keep_prob"
   ]
  },
  {
   "cell_type": "code",
   "execution_count": null,
   "metadata": {
    "ExecuteTime": {
     "end_time": "2019-04-27T17:11:00.468555Z",
     "start_time": "2019-04-27T17:10:57.342432Z"
    }
   },
   "outputs": [],
   "source": [
    "num_inputs,num_outputs,num_hiddens1,num_hiddens2=784,10,256,256\n",
    "\n",
    "w1=nd.random.normal(scale=0.01,shape=(num_inputs,num_hiddens1))\n",
    "b1=nd.zeros(num_hiddens1)\n",
    "w2=nd.random.normal(scale=0.01,shape=(num_hiddens1,num_hiddens2))\n",
    "b2=nd.zeros(num_hiddens2)\n",
    "w3=nd.random.normal(scale=0.01,shape=(num_hiddens2,num_outputs))\n",
    "b3=nd.zeros(num_outputs)\n",
    "\n",
    "params=[w1,b1,w2,b2,w3,b3]\n",
    "for param in params:\n",
    "    param.attach_grad()"
   ]
  },
  {
   "cell_type": "code",
   "execution_count": null,
   "metadata": {
    "ExecuteTime": {
     "end_time": "2019-04-27T17:20:04.873711Z",
     "start_time": "2019-04-27T17:20:04.819674Z"
    }
   },
   "outputs": [],
   "source": [
    "drop_prob1, drop_prob2=0.2,0.5\n",
    "\n",
    "def relu(X):\n",
    "    return nd.maximum(X,0)\n",
    "\n",
    "def net(X):\n",
    "    X=X.reshape(-1,num_inputs)\n",
    "    h1=relu(nd.dot(X,w1)+b1)\n",
    "    if ag.is_training():\n",
    "        h1=dropout(h1,drop_prob1)\n",
    "    h2=relu(nd.dot(h1,w2)+b2)\n",
    "    if ag.is_training():\n",
    "        h2=dropout(h2,drop_prob2)\n",
    "    return nd.dot(h2,w3)+b3"
   ]
  },
  {
   "cell_type": "markdown",
   "metadata": {},
   "source": [
    "Practice"
   ]
  },
  {
   "cell_type": "code",
   "execution_count": null,
   "metadata": {
    "ExecuteTime": {
     "end_time": "2019-04-28T08:44:53.014624Z",
     "start_time": "2019-04-28T08:44:53.003616Z"
    }
   },
   "outputs": [],
   "source": [
    "def dropout(X,dropout_prob):\n",
    "    assert 0<=dropout_prob<=1\n",
    "    keep_prob=1-dropout_prob\n",
    "    if keep_prob==0:\n",
    "        return X.zeros_like()\n",
    "    mask=nd.random.uniform(0,1,X.shape())<keep_prob\n",
    "    return mask*X/keep_prob\n",
    "\n",
    "def net(X,dropout_prob):\n",
    "    h1=nd.dot(X,w1)+b1\n",
    "    if ag.is_training():\n",
    "        h1=dropout(relu(h1),dropout_prob)\n",
    "    h2=nd.dot(h1,w2)+b2\n",
    "    if ag.is_training():\n",
    "        h2=dropout(relu(h2),dropout_prob)\n",
    "    h3=nd.dot(h2,w3)+b3\n",
    "    return h3"
   ]
  },
  {
   "cell_type": "markdown",
   "metadata": {},
   "source": [
    "# 用mxnet直接生成模型"
   ]
  },
  {
   "cell_type": "markdown",
   "metadata": {},
   "source": [
    "## 构建神经网络"
   ]
  },
  {
   "cell_type": "code",
   "execution_count": 1,
   "metadata": {
    "ExecuteTime": {
     "end_time": "2019-04-28T10:14:36.047326Z",
     "start_time": "2019-04-28T10:14:35.326668Z"
    }
   },
   "outputs": [
    {
     "name": "stdout",
     "output_type": "stream",
     "text": [
      "Sequential(\n",
      "  (0): Dense(None -> 256, Activation(relu))\n",
      "  (1): Dense(None -> 10, linear)\n",
      ")\n"
     ]
    }
   ],
   "source": [
    "from mxnet.gluon import nn\n",
    "from mxnet import nd\n",
    "\n",
    "##   nn里已经有Sequential()\n",
    "net=nn.Sequential()\n",
    "with net.name_scope():\n",
    "    net.add(nn.Dense(256,activation=\"relu\"))\n",
    "    net.add(nn.Dense(10))\n",
    "print(net)"
   ]
  },
  {
   "cell_type": "code",
   "execution_count": 16,
   "metadata": {
    "ExecuteTime": {
     "end_time": "2019-04-28T11:00:03.985316Z",
     "start_time": "2019-04-28T11:00:03.978310Z"
    }
   },
   "outputs": [],
   "source": [
    "##类似Squential的定义方法，只是类的名字为MySquential\n",
    "class MySquential(nn.Block):\n",
    "    def __init__(self,**kwargs):\n",
    "        super(MySquential,self).__init__(**kwargs)\n",
    "        \n",
    "    def add(self,block):\n",
    "        self._children[block.name]=block\n",
    "    \n",
    "    def forward(self,x):\n",
    "        for block in self._children.values():\n",
    "            x=block(x)\n",
    "        return x"
   ]
  },
  {
   "cell_type": "code",
   "execution_count": 31,
   "metadata": {
    "ExecuteTime": {
     "end_time": "2019-04-28T12:03:54.386797Z",
     "start_time": "2019-04-28T12:03:54.367780Z"
    }
   },
   "outputs": [
    {
     "data": {
      "text/plain": [
       "\n",
       "[[-0.03479836  0.08300613 -0.02447348  0.03858991  0.01280021 -0.20667431\n",
       "   0.04105026  0.11398264 -0.06973129 -0.01379004]\n",
       " [-0.03529222  0.09777347  0.03061453  0.01371823  0.03054728 -0.09273786\n",
       "  -0.05212441  0.09239373  0.00355052 -0.03384817]]\n",
       "<NDArray 2x10 @cpu(0)>"
      ]
     },
     "execution_count": 31,
     "metadata": {},
     "output_type": "execute_result"
    }
   ],
   "source": [
    "X=nd.random.uniform(shape=(2,30))\n",
    "\n",
    "net=MySquential()\n",
    "net.add(nn.Dense(256,activation=\"relu\"))\n",
    "net.add(nn.Dense(10))\n",
    "net.initialize()\n",
    "net(X)##可发现结果与Sequential的作用一样"
   ]
  },
  {
   "cell_type": "code",
   "execution_count": 21,
   "metadata": {
    "ExecuteTime": {
     "end_time": "2019-04-28T11:46:27.010615Z",
     "start_time": "2019-04-28T11:46:26.992101Z"
    }
   },
   "outputs": [],
   "source": [
    "class MLP(nn.Block):\n",
    "    def __init__(self,**kwargs):\n",
    "        super(MLP,self).__init__(**kwargs)\n",
    "        self.hidden=nn.Dense(256,activation=\"relu\")\n",
    "        self.output=nn.Dense(10)\n",
    "        \n",
    "    def forward(self,x):\n",
    "        return self.output(self.hidden(x))"
   ]
  },
  {
   "cell_type": "code",
   "execution_count": 19,
   "metadata": {
    "ExecuteTime": {
     "end_time": "2019-04-28T11:01:18.242002Z",
     "start_time": "2019-04-28T11:01:18.219989Z"
    },
    "scrolled": false
   },
   "outputs": [
    {
     "data": {
      "text/plain": [
       "\n",
       "[[ 0.00483723 -0.01825137 -0.07284753 -0.06607331 -0.07486404  0.10269828\n",
       "   0.00578628 -0.00612297  0.00765912 -0.06142711]\n",
       " [ 0.04935986 -0.07191715 -0.02122155 -0.09590983 -0.02557939  0.07625449\n",
       "  -0.025772    0.02371885  0.05016173 -0.04302575]]\n",
       "<NDArray 2x10 @cpu(0)>"
      ]
     },
     "execution_count": 19,
     "metadata": {},
     "output_type": "execute_result"
    }
   ],
   "source": [
    "X=nd.random.uniform(shape=(2,30))\n",
    "net=MLP()\n",
    "net.initialize()\n",
    "net(X)"
   ]
  },
  {
   "cell_type": "code",
   "execution_count": 20,
   "metadata": {
    "ExecuteTime": {
     "end_time": "2019-04-28T11:01:19.991967Z",
     "start_time": "2019-04-28T11:01:19.985963Z"
    }
   },
   "outputs": [
    {
     "name": "stdout",
     "output_type": "stream",
     "text": [
      "default prefix: dense8\n",
      "customized prefix: dense10\n"
     ]
    }
   ],
   "source": [
    "print('default prefix:', net.hidden.name)\n",
    "\n",
    "net3 = MLP(prefix='another_mlp_')\n",
    "print('customized prefix:', net3.hidden.name)"
   ]
  },
  {
   "cell_type": "code",
   "execution_count": 40,
   "metadata": {
    "ExecuteTime": {
     "end_time": "2019-04-28T17:42:24.000827Z",
     "start_time": "2019-04-28T17:42:23.988817Z"
    }
   },
   "outputs": [],
   "source": [
    "class FancyMLP(nn.Block):\n",
    "    def __init__(self,**kwargs):\n",
    "        super(FancyMLP,self).__init__(**kwargs)\n",
    "        self.rand_weight=self.params.get_constant('rand_weight',nd.random.uniform(shape=(20,20)))\n",
    "        ##用get_constant函数创建常数参数，即不被迭代的参数\n",
    "        self.dense=nn.Dense(20,activation=\"relu\")\n",
    "    \n",
    "    def forward(self,x):\n",
    "        x=self.dense(x)\n",
    "        x=nd.relu(nd.dot(x,self.rand_weight.data())+1)\n",
    "        x=self.dense(x)\n",
    "        while x.norm().asscalar()>1:\n",
    "            x/=2\n",
    "        if x.norm().asscalar()<0.8:\n",
    "            x*=10\n",
    "        return x.sum()"
   ]
  },
  {
   "cell_type": "code",
   "execution_count": 41,
   "metadata": {
    "ExecuteTime": {
     "end_time": "2019-04-28T17:42:24.429109Z",
     "start_time": "2019-04-28T17:42:24.391085Z"
    }
   },
   "outputs": [
    {
     "data": {
      "text/plain": [
       "\n",
       "[20.839413]\n",
       "<NDArray 1 @cpu(0)>"
      ]
     },
     "execution_count": 41,
     "metadata": {},
     "output_type": "execute_result"
    }
   ],
   "source": [
    "class NestMLP(nn.Block):\n",
    "    def __init__(self,**kwargs):\n",
    "        super(NestMLP,self).__init__(**kwargs)\n",
    "        self.net=nn.Sequential()\n",
    "        self.net.add(nn.Dense(64,activation='relu'),\n",
    "                    nn.Dense(32,activation='relu'))\n",
    "        self.dense=nn.Dense(16,activation='relu')\n",
    "        \n",
    "    def forward(self,x):\n",
    "        return self.dense(self.net(x))\n",
    "\n",
    "net=nn.Sequential()\n",
    "net.add(NestMLP(),nn.Dense(20),FancyMLP())\n",
    "net.initialize()\n",
    "net(X)"
   ]
  },
  {
   "cell_type": "code",
   "execution_count": 29,
   "metadata": {
    "ExecuteTime": {
     "end_time": "2019-04-30T06:46:25.449529Z",
     "start_time": "2019-04-30T06:46:25.311432Z"
    }
   },
   "outputs": [
    {
     "name": "stdout",
     "output_type": "stream",
     "text": [
      "Sequential(\n",
      "  (0): MLP(\n",
      "    (hidden): Dense(None -> 20, Activation(relu))\n",
      "    (output): Dense(None -> 10, linear)\n",
      "  )\n",
      "  (1): Dense(None -> 10, linear)\n",
      "  (2): FancyMLP(\n",
      "    (dense): Dense(None -> 10, Activation(relu))\n",
      "  )\n",
      ")\n"
     ]
    },
    {
     "data": {
      "text/plain": [
       "\n",
       "[56.943466]\n",
       "<NDArray 1 @cpu(0)>"
      ]
     },
     "execution_count": 29,
     "metadata": {},
     "output_type": "execute_result"
    }
   ],
   "source": [
    "from mxnet.gluon import nn\n",
    "from mxnet import nd\n",
    "from mxnet import autograd as ag\n",
    "\n",
    "class MySequential(nn.Block):\n",
    "    def __init__(self,**kwargs):\n",
    "        super(MySequential,self).__init__(**kwargs)\n",
    "        \n",
    "    def add(self,block):\n",
    "        self._children[block.name]=block\n",
    "        \n",
    "    def forward(self,x):\n",
    "        for block in self._children.values():\n",
    "            x=block(x)\n",
    "        return x\n",
    "    \n",
    "\n",
    "class FancyMLP(nn.Block):\n",
    "    def __init__(self,**kwargs):\n",
    "        super(FancyMLP,self).__init__(**kwargs)\n",
    "        self.rand_weight=self.params.get_constant(\"rand_weight\",nd.random.uniform(shape=(10,10)))\n",
    "        self.dense=nn.Dense(10,activation=\"relu\")\n",
    "    \n",
    "    def forward(self,x):\n",
    "        x=self.dense(x)\n",
    "        x=nd.relu(nd.dot(x,self.rand_weight.data())+1)\n",
    "        x=self.dense(x)\n",
    "        while x.norm().asscalar()>1:\n",
    "            x/=2\n",
    "        if x.norm().asscalar()<0.8:\n",
    "            x*=10\n",
    "        return x.sum()\n",
    "\n",
    "class MLP(nn.Block):\n",
    "    def __init__(self,**kwargs):\n",
    "        super(MLP,self).__init__(**kwargs)\n",
    "        self.hidden=nn.Dense(20,activation=\"relu\")\n",
    "        self.output=nn.Dense(10)\n",
    "        \n",
    "    def forward(self,x):\n",
    "        return self.output(self.hidden(x))\n",
    "    \n",
    "class NestMLP(nn.Block):\n",
    "    def __init__(self,**kwargs):\n",
    "        super(NestMLP,self).__init__(**kwargs)\n",
    "        self.rand_weight=self.params.get_constant('rand_weight',nd.random.uniform(shape=(10,10)))\n",
    "        self.dense=nn.Dense(20,activation=\"relu\")\n",
    "    \n",
    "    def add(self,block):\n",
    "        self._children[block.name]=block\n",
    "    \n",
    "    def forward(self,x):\n",
    "        for block in self._children.values():\n",
    "            x=block(x)\n",
    "\n",
    "net=nn.Sequential()\n",
    "net.add(MLP(),nn.Dense(10),FancyMLP())\n",
    "net.initialize()\n",
    "X=nd.random.uniform(shape=(20,20))\n",
    "print(net)\n",
    "net(X)"
   ]
  },
  {
   "cell_type": "markdown",
   "metadata": {},
   "source": [
    "## 模型参数的访问、初始化和共享"
   ]
  },
  {
   "cell_type": "markdown",
   "metadata": {},
   "source": [
    "### 访问"
   ]
  },
  {
   "cell_type": "code",
   "execution_count": 1,
   "metadata": {
    "ExecuteTime": {
     "end_time": "2019-04-30T09:55:04.528310Z",
     "start_time": "2019-04-30T09:54:45.296414Z"
    }
   },
   "outputs": [],
   "source": [
    "from mxnet.gluon import nn\n",
    "from mxnet import nd,init\n",
    "\n",
    "net=nn.Sequential()\n",
    "net.add(nn.Dense(256,activation=\"relu\"))\n",
    "net.add(nn.Dense(10))\n",
    "net.initialize()\n",
    "\n",
    "X=nd.random.uniform(shape=(2,20))\n",
    "Y=net(X)"
   ]
  },
  {
   "cell_type": "code",
   "execution_count": 2,
   "metadata": {
    "ExecuteTime": {
     "end_time": "2019-04-30T09:55:04.797031Z",
     "start_time": "2019-04-30T09:55:04.763009Z"
    }
   },
   "outputs": [
    {
     "name": "stderr",
     "output_type": "stream",
     "text": [
      "Parameter 'dense2_weight' has not been initialized. Note that you should initialize parameters and create Trainer with Block.collect_params() instead of Block.params because the later does not include Parameters of nested child Blocks"
     ]
    }
   ],
   "source": [
    "import sys\n",
    "\n",
    "get_net=nn.Sequential()\n",
    "get_net.add(nn.Dense(256,activation=\"relu\"))\n",
    "get_net.add(nn.Dense(10))\n",
    "\n",
    "try:\n",
    "    get_net(X)\n",
    "except RuntimeError as err:\n",
    "    sys.stderr.write(str(err))    "
   ]
  },
  {
   "cell_type": "code",
   "execution_count": 3,
   "metadata": {
    "ExecuteTime": {
     "end_time": "2019-04-30T09:55:05.547382Z",
     "start_time": "2019-04-30T09:55:04.825554Z"
    }
   },
   "outputs": [
    {
     "data": {
      "text/plain": [
       "dense0_ (\n",
       "  Parameter dense0_weight (shape=(256, 20), dtype=float32)\n",
       "  Parameter dense0_bias (shape=(256,), dtype=float32)\n",
       ")"
      ]
     },
     "execution_count": 3,
     "metadata": {},
     "output_type": "execute_result"
    }
   ],
   "source": [
    "net[0].params"
   ]
  },
  {
   "cell_type": "code",
   "execution_count": 6,
   "metadata": {
    "ExecuteTime": {
     "end_time": "2019-04-30T09:55:55.262027Z",
     "start_time": "2019-04-30T09:55:55.256023Z"
    }
   },
   "outputs": [
    {
     "data": {
      "text/plain": [
       "(Parameter dense0_weight (shape=(256, 20), dtype=float32),\n",
       " Parameter dense0_bias (shape=(256,), dtype=float32))"
      ]
     },
     "execution_count": 6,
     "metadata": {},
     "output_type": "execute_result"
    }
   ],
   "source": [
    "net[0].weight,net[0].bias"
   ]
  },
  {
   "cell_type": "code",
   "execution_count": 8,
   "metadata": {
    "ExecuteTime": {
     "end_time": "2019-04-30T09:56:18.265838Z",
     "start_time": "2019-04-30T09:56:18.258835Z"
    }
   },
   "outputs": [
    {
     "data": {
      "text/plain": [
       "\n",
       "[[ 0.06700657 -0.00369488  0.0418822  ... -0.05517294 -0.01194733\n",
       "  -0.00369594]\n",
       " [-0.03296221 -0.04391347  0.03839272 ...  0.05636378  0.02545484\n",
       "  -0.007007  ]\n",
       " [-0.0196689   0.01582889 -0.00881553 ...  0.01509629 -0.01908049\n",
       "  -0.02449339]\n",
       " ...\n",
       " [ 0.00010955  0.0439323  -0.04911506 ...  0.06975312  0.0449558\n",
       "  -0.03283203]\n",
       " [ 0.04106557  0.05671307 -0.00066976 ...  0.06387014 -0.01292654\n",
       "   0.00974177]\n",
       " [ 0.00297424 -0.0281784  -0.06881659 ... -0.04047417  0.00457048\n",
       "   0.05696651]]\n",
       "<NDArray 256x20 @cpu(0)>"
      ]
     },
     "execution_count": 8,
     "metadata": {},
     "output_type": "execute_result"
    }
   ],
   "source": [
    "net[0].weight.data()"
   ]
  },
  {
   "cell_type": "code",
   "execution_count": 9,
   "metadata": {
    "ExecuteTime": {
     "end_time": "2019-04-30T09:56:31.371509Z",
     "start_time": "2019-04-30T09:56:31.361501Z"
    }
   },
   "outputs": [
    {
     "data": {
      "text/plain": [
       "\n",
       "[0. 0. 0. 0. 0. 0. 0. 0. 0. 0. 0. 0. 0. 0. 0. 0. 0. 0. 0. 0. 0. 0. 0. 0.\n",
       " 0. 0. 0. 0. 0. 0. 0. 0. 0. 0. 0. 0. 0. 0. 0. 0. 0. 0. 0. 0. 0. 0. 0. 0.\n",
       " 0. 0. 0. 0. 0. 0. 0. 0. 0. 0. 0. 0. 0. 0. 0. 0. 0. 0. 0. 0. 0. 0. 0. 0.\n",
       " 0. 0. 0. 0. 0. 0. 0. 0. 0. 0. 0. 0. 0. 0. 0. 0. 0. 0. 0. 0. 0. 0. 0. 0.\n",
       " 0. 0. 0. 0. 0. 0. 0. 0. 0. 0. 0. 0. 0. 0. 0. 0. 0. 0. 0. 0. 0. 0. 0. 0.\n",
       " 0. 0. 0. 0. 0. 0. 0. 0. 0. 0. 0. 0. 0. 0. 0. 0. 0. 0. 0. 0. 0. 0. 0. 0.\n",
       " 0. 0. 0. 0. 0. 0. 0. 0. 0. 0. 0. 0. 0. 0. 0. 0. 0. 0. 0. 0. 0. 0. 0. 0.\n",
       " 0. 0. 0. 0. 0. 0. 0. 0. 0. 0. 0. 0. 0. 0. 0. 0. 0. 0. 0. 0. 0. 0. 0. 0.\n",
       " 0. 0. 0. 0. 0. 0. 0. 0. 0. 0. 0. 0. 0. 0. 0. 0. 0. 0. 0. 0. 0. 0. 0. 0.\n",
       " 0. 0. 0. 0. 0. 0. 0. 0. 0. 0. 0. 0. 0. 0. 0. 0. 0. 0. 0. 0. 0. 0. 0. 0.\n",
       " 0. 0. 0. 0. 0. 0. 0. 0. 0. 0. 0. 0. 0. 0. 0. 0.]\n",
       "<NDArray 256 @cpu(0)>"
      ]
     },
     "execution_count": 9,
     "metadata": {},
     "output_type": "execute_result"
    }
   ],
   "source": [
    "net[0].bias.data()"
   ]
  },
  {
   "cell_type": "code",
   "execution_count": 13,
   "metadata": {
    "ExecuteTime": {
     "end_time": "2019-04-30T09:56:59.198711Z",
     "start_time": "2019-04-30T09:56:59.191701Z"
    }
   },
   "outputs": [
    {
     "data": {
      "text/plain": [
       "\n",
       "[[0. 0. 0. ... 0. 0. 0.]\n",
       " [0. 0. 0. ... 0. 0. 0.]\n",
       " [0. 0. 0. ... 0. 0. 0.]\n",
       " ...\n",
       " [0. 0. 0. ... 0. 0. 0.]\n",
       " [0. 0. 0. ... 0. 0. 0.]\n",
       " [0. 0. 0. ... 0. 0. 0.]]\n",
       "<NDArray 256x20 @cpu(0)>"
      ]
     },
     "execution_count": 13,
     "metadata": {},
     "output_type": "execute_result"
    }
   ],
   "source": [
    "net[0].weight.grad()"
   ]
  },
  {
   "cell_type": "code",
   "execution_count": 15,
   "metadata": {
    "ExecuteTime": {
     "end_time": "2019-04-30T09:59:11.436720Z",
     "start_time": "2019-04-30T09:59:11.430716Z"
    }
   },
   "outputs": [
    {
     "data": {
      "text/plain": [
       "sequential0_ (\n",
       "  Parameter dense0_weight (shape=(256, 20), dtype=float32)\n",
       "  Parameter dense0_bias (shape=(256,), dtype=float32)\n",
       "  Parameter dense1_weight (shape=(10, 256), dtype=float32)\n",
       "  Parameter dense1_bias (shape=(10,), dtype=float32)\n",
       ")"
      ]
     },
     "execution_count": 15,
     "metadata": {},
     "output_type": "execute_result"
    }
   ],
   "source": [
    "net.collect_params()"
   ]
  },
  {
   "cell_type": "code",
   "execution_count": 21,
   "metadata": {
    "ExecuteTime": {
     "end_time": "2019-04-30T10:05:27.904302Z",
     "start_time": "2019-04-30T10:05:27.899301Z"
    }
   },
   "outputs": [
    {
     "data": {
      "text/plain": [
       "sequential0_ (\n",
       "  Parameter dense0_weight (shape=(256, 20), dtype=float32)\n",
       "  Parameter dense1_weight (shape=(10, 256), dtype=float32)\n",
       ")"
      ]
     },
     "execution_count": 21,
     "metadata": {},
     "output_type": "execute_result"
    }
   ],
   "source": [
    "net.collect_params(\".*weight\")"
   ]
  },
  {
   "cell_type": "markdown",
   "metadata": {},
   "source": [
    "### 初始化"
   ]
  },
  {
   "cell_type": "code",
   "execution_count": 25,
   "metadata": {
    "ExecuteTime": {
     "end_time": "2019-04-30T10:52:13.507327Z",
     "start_time": "2019-04-30T10:52:13.494320Z"
    }
   },
   "outputs": [
    {
     "data": {
      "text/plain": [
       "\n",
       "[[-0.03504865 -0.23438847  0.04922842 ...  0.0265967  -0.08032074\n",
       "  -0.03374606]\n",
       " [ 0.05175224 -0.01557013 -0.04302231 ...  0.07126307 -0.15321481\n",
       "  -0.01820835]\n",
       " [ 0.0758026   0.00489673 -0.03671206 ...  0.10051775 -0.08681948\n",
       "   0.01279103]\n",
       " ...\n",
       " [-0.24511719 -0.10328277 -0.06657182 ... -0.08262765 -0.05409136\n",
       "  -0.07888345]\n",
       " [ 0.14808148 -0.08100855 -0.00131163 ...  0.01099453  0.15791535\n",
       "   0.00442869]\n",
       " [ 0.00070946 -0.00577914 -0.012424   ...  0.10772001  0.12763195\n",
       "   0.02589103]]\n",
       "<NDArray 256x20 @cpu(0)>"
      ]
     },
     "execution_count": 25,
     "metadata": {},
     "output_type": "execute_result"
    }
   ],
   "source": [
    "net.initialize(init.Normal(sigma=0.1),force_reinit=True)\n",
    "net[0].weight.data()"
   ]
  },
  {
   "cell_type": "code",
   "execution_count": 26,
   "metadata": {
    "ExecuteTime": {
     "end_time": "2019-04-30T10:53:21.852377Z",
     "start_time": "2019-04-30T10:53:21.798341Z"
    }
   },
   "outputs": [
    {
     "data": {
      "text/plain": [
       "\n",
       "[[1. 1. 1. ... 1. 1. 1.]\n",
       " [1. 1. 1. ... 1. 1. 1.]\n",
       " [1. 1. 1. ... 1. 1. 1.]\n",
       " ...\n",
       " [1. 1. 1. ... 1. 1. 1.]\n",
       " [1. 1. 1. ... 1. 1. 1.]\n",
       " [1. 1. 1. ... 1. 1. 1.]]\n",
       "<NDArray 256x20 @cpu(0)>"
      ]
     },
     "execution_count": 26,
     "metadata": {},
     "output_type": "execute_result"
    }
   ],
   "source": [
    "net.initialize(init.Constant(1),force_reinit=True)\n",
    "net[0].weight.data()"
   ]
  },
  {
   "cell_type": "code",
   "execution_count": 72,
   "metadata": {
    "ExecuteTime": {
     "end_time": "2019-04-30T11:11:10.096685Z",
     "start_time": "2019-04-30T11:11:09.622791Z"
    }
   },
   "outputs": [
    {
     "name": "stdout",
     "output_type": "stream",
     "text": [
      "Init dense0_weight (256, 20)\n",
      "Init dense1_weight (10, 256)\n"
     ]
    },
    {
     "data": {
      "text/plain": [
       "\n",
       "[[ 7.6755886 -9.141876  -0.        ... -7.994965  -0.         5.1796913]\n",
       " [ 0.        -9.658791   0.        ...  9.702173   5.474207   5.6679335]\n",
       " [ 7.6763725  0.         9.383356  ... -0.         0.        -0.       ]\n",
       " ...\n",
       " [-8.542812  -5.6284614 -0.        ...  0.         0.         5.1772413]\n",
       " [-6.460295   6.4338017  6.040327  ...  0.        -0.        -0.       ]\n",
       " [ 9.683821   7.593361   0.        ...  0.        -9.518288   8.365871 ]]\n",
       "<NDArray 256x20 @cpu(0)>"
      ]
     },
     "execution_count": 72,
     "metadata": {},
     "output_type": "execute_result"
    }
   ],
   "source": [
    "class MyInit(init.Initializer):\n",
    "    def _init_weight(self,name,data):\n",
    "        print(\"Init\",name,data.shape)\n",
    "        data[:]=nd.random.uniform(low=-10,high=10,shape=data.shape)\n",
    "        data*=data.abs()>=5\n",
    "        \n",
    "net.initialize(MyInit(),force_reinit=True)\n",
    "net[0].weight.data()"
   ]
  },
  {
   "cell_type": "code",
   "execution_count": 73,
   "metadata": {
    "ExecuteTime": {
     "end_time": "2019-04-30T11:12:45.129422Z",
     "start_time": "2019-04-30T11:12:45.120419Z"
    }
   },
   "outputs": [
    {
     "data": {
      "text/plain": [
       "\n",
       "[[ 8.675589  -8.141876   1.        ... -6.994965   1.         6.1796913]\n",
       " [ 1.        -8.658791   1.        ... 10.702173   6.474207   6.6679335]\n",
       " [ 8.676373   1.        10.383356  ...  1.         1.         1.       ]\n",
       " ...\n",
       " [-7.5428123 -4.6284614  1.        ...  1.         1.         6.1772413]\n",
       " [-5.460295   7.4338017  7.040327  ...  1.         1.         1.       ]\n",
       " [10.683821   8.593361   1.        ...  1.        -8.518288   9.365871 ]]\n",
       "<NDArray 256x20 @cpu(0)>"
      ]
     },
     "execution_count": 73,
     "metadata": {},
     "output_type": "execute_result"
    }
   ],
   "source": [
    "net[0].weight.set_data(net[0].weight.data()+1)\n",
    "net[0].weight.data()"
   ]
  },
  {
   "cell_type": "markdown",
   "metadata": {},
   "source": [
    "### 共享"
   ]
  },
  {
   "cell_type": "code",
   "execution_count": 1,
   "metadata": {
    "ExecuteTime": {
     "end_time": "2019-04-30T15:09:44.647426Z",
     "start_time": "2019-04-30T15:09:33.738199Z"
    }
   },
   "outputs": [],
   "source": [
    "from mxnet.gluon import nn\n",
    "from mxnet import nd"
   ]
  },
  {
   "cell_type": "code",
   "execution_count": 4,
   "metadata": {
    "ExecuteTime": {
     "end_time": "2019-04-30T15:15:17.087560Z",
     "start_time": "2019-04-30T15:15:16.781293Z"
    }
   },
   "outputs": [
    {
     "data": {
      "text/plain": [
       "\n",
       "[[1. 1. 1. 1. 1. 1. 1. 1.]\n",
       " [1. 1. 1. 1. 1. 1. 1. 1.]\n",
       " [1. 1. 1. 1. 1. 1. 1. 1.]\n",
       " [1. 1. 1. 1. 1. 1. 1. 1.]\n",
       " [1. 1. 1. 1. 1. 1. 1. 1.]\n",
       " [1. 1. 1. 1. 1. 1. 1. 1.]\n",
       " [1. 1. 1. 1. 1. 1. 1. 1.]\n",
       " [1. 1. 1. 1. 1. 1. 1. 1.]]\n",
       "<NDArray 8x8 @cpu(0)>"
      ]
     },
     "execution_count": 4,
     "metadata": {},
     "output_type": "execute_result"
    }
   ],
   "source": [
    "net =nn.Sequential()\n",
    "shared=nn.Dense(8)\n",
    "net.add(nn.Dense(8,activation=\"relu\"),\n",
    "       shared,\n",
    "       nn.Dense(8,activation=\"relu\",params=shared.params),\n",
    "       nn.Dense(10))\n",
    "net.initialize()\n",
    "X=nd.random.uniform(shape=(2,20))\n",
    "\n",
    "net(X)\n",
    "\n",
    "net[1].weight.data()==net[2].weight.data()"
   ]
  },
  {
   "cell_type": "markdown",
   "metadata": {},
   "source": [
    "### 延后初始化"
   ]
  },
  {
   "cell_type": "code",
   "execution_count": 5,
   "metadata": {
    "ExecuteTime": {
     "end_time": "2019-04-30T15:18:26.576759Z",
     "start_time": "2019-04-30T15:18:26.119215Z"
    }
   },
   "outputs": [],
   "source": []
  },
  {
   "cell_type": "code",
   "execution_count": null,
   "metadata": {},
   "outputs": [],
   "source": []
  }
 ],
 "metadata": {
  "kernelspec": {
   "display_name": "gluon",
   "language": "python",
   "name": "gluon"
  },
  "language_info": {
   "codemirror_mode": {
    "name": "ipython",
    "version": 3
   },
   "file_extension": ".py",
   "mimetype": "text/x-python",
   "name": "python",
   "nbconvert_exporter": "python",
   "pygments_lexer": "ipython3",
   "version": "3.6.8"
  },
  "latex_envs": {
   "LaTeX_envs_menu_present": true,
   "autoclose": false,
   "autocomplete": true,
   "bibliofile": "biblio.bib",
   "cite_by": "apalike",
   "current_citInitial": 1,
   "eqLabelWithNumbers": true,
   "eqNumInitial": 1,
   "hotkeys": {
    "equation": "Ctrl-E",
    "itemize": "Ctrl-I"
   },
   "labels_anchors": false,
   "latex_user_defs": false,
   "report_style_numbering": false,
   "user_envs_cfg": false
  },
  "toc": {
   "base_numbering": 1,
   "nav_menu": {},
   "number_sections": true,
   "sideBar": true,
   "skip_h1_title": false,
   "title_cell": "Table of Contents",
   "title_sidebar": "Contents",
   "toc_cell": false,
   "toc_position": {},
   "toc_section_display": true,
   "toc_window_display": false
  },
  "varInspector": {
   "cols": {
    "lenName": 16,
    "lenType": 16,
    "lenVar": 40
   },
   "kernels_config": {
    "python": {
     "delete_cmd_postfix": "",
     "delete_cmd_prefix": "del ",
     "library": "var_list.py",
     "varRefreshCmd": "print(var_dic_list())"
    },
    "r": {
     "delete_cmd_postfix": ") ",
     "delete_cmd_prefix": "rm(",
     "library": "var_list.r",
     "varRefreshCmd": "cat(var_dic_list()) "
    }
   },
   "types_to_exclude": [
    "module",
    "function",
    "builtin_function_or_method",
    "instance",
    "_Feature"
   ],
   "window_display": false
  }
 },
 "nbformat": 4,
 "nbformat_minor": 2
}
