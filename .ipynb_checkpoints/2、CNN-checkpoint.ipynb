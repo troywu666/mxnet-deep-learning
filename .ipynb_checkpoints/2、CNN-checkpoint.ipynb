{
 "cells": [
  {
   "cell_type": "markdown",
   "metadata": {},
   "source": [
    "# 卷积神经网络"
   ]
  },
  {
   "cell_type": "markdown",
   "metadata": {},
   "source": [
    "## 二维互相关运算"
   ]
  },
  {
   "cell_type": "code",
   "execution_count": 1,
   "metadata": {
    "ExecuteTime": {
     "end_time": "2019-05-04T01:38:36.797382Z",
     "start_time": "2019-05-04T01:38:25.670973Z"
    }
   },
   "outputs": [],
   "source": [
    "from mxnet import autograd as ag\n",
    "from mxnet import nd\n",
    "from mxnet.gluon import nn"
   ]
  },
  {
   "cell_type": "code",
   "execution_count": 4,
   "metadata": {
    "ExecuteTime": {
     "end_time": "2019-05-04T01:39:50.492394Z",
     "start_time": "2019-05-04T01:39:50.485391Z"
    }
   },
   "outputs": [],
   "source": [
    "def corr2d(X,K):\n",
    "    h,w=K.shape\n",
    "    Y=nd.zeros((X.shape[0]-h+1,X.shape[1]-w+1))\n",
    "    for i in range(X.shape[0]-h+1):\n",
    "        for j in range(X.shape[1]-w+1):\n",
    "            Y[i,j]=(X[i:i+h,j:j+w]*K).sum()\n",
    "    return Y"
   ]
  },
  {
   "cell_type": "code",
   "execution_count": 5,
   "metadata": {
    "ExecuteTime": {
     "end_time": "2019-05-04T01:39:53.067777Z",
     "start_time": "2019-05-04T01:39:52.618874Z"
    }
   },
   "outputs": [
    {
     "data": {
      "text/plain": [
       "\n",
       "[[19. 25.]\n",
       " [37. 43.]]\n",
       "<NDArray 2x2 @cpu(0)>"
      ]
     },
     "execution_count": 5,
     "metadata": {},
     "output_type": "execute_result"
    }
   ],
   "source": [
    "X = nd.array([[0, 1, 2], [3, 4, 5], [6, 7, 8]])\n",
    "K = nd.array([[0, 1], [2, 3]])\n",
    "corr2d(X, K)"
   ]
  },
  {
   "cell_type": "markdown",
   "metadata": {},
   "source": [
    "## 二维卷积层"
   ]
  },
  {
   "cell_type": "code",
   "execution_count": 6,
   "metadata": {
    "ExecuteTime": {
     "end_time": "2019-05-04T01:51:37.873368Z",
     "start_time": "2019-05-04T01:51:37.867366Z"
    }
   },
   "outputs": [],
   "source": [
    "class Conv2d(nn.Block):\n",
    "    def __init__(self,kernel_size,**kwargs):\n",
    "        super(Conv2d,self).__init__(**kwargs)\n",
    "        self.weight=self.params.get('weight',shape=kernel_size)\n",
    "        self.bias=self.params.get('bias',shape=(1,))\n",
    "        \n",
    "    def forward(self,x):\n",
    "        return corr2d(x,self.weight.data())+self.bias.data()"
   ]
  },
  {
   "cell_type": "markdown",
   "metadata": {},
   "source": [
    "## 通过数据学习核数组"
   ]
  },
  {
   "cell_type": "code",
   "execution_count": 65,
   "metadata": {
    "ExecuteTime": {
     "end_time": "2019-05-04T02:32:05.579677Z",
     "start_time": "2019-05-04T02:32:05.515634Z"
    }
   },
   "outputs": [
    {
     "name": "stdout",
     "output_type": "stream",
     "text": [
      "\n",
      "[[1. 1. 1. 1. 0. 1. 1. 1.]\n",
      " [1. 1. 1. 1. 0. 1. 1. 1.]\n",
      " [1. 1. 1. 1. 0. 1. 1. 1.]\n",
      " [1. 1. 1. 1. 0. 1. 1. 1.]\n",
      " [1. 1. 1. 1. 0. 1. 1. 1.]\n",
      " [1. 1. 1. 1. 0. 1. 1. 1.]]\n",
      "<NDArray 6x8 @cpu(0)> \n",
      "[[ 1. -1.]]\n",
      "<NDArray 1x2 @cpu(0)> \n",
      "[[ 0.  0.  0.  1. -1.  0.  0.]\n",
      " [ 0.  0.  0.  1. -1.  0.  0.]\n",
      " [ 0.  0.  0.  1. -1.  0.  0.]\n",
      " [ 0.  0.  0.  1. -1.  0.  0.]\n",
      " [ 0.  0.  0.  1. -1.  0.  0.]\n",
      " [ 0.  0.  0.  1. -1.  0.  0.]]\n",
      "<NDArray 6x7 @cpu(0)>\n",
      "NO.1, loss:12.500\n",
      "NO.2, loss:8.163\n",
      "NO.3, loss:5.332\n",
      "NO.4, loss:3.485\n",
      "NO.5, loss:2.279\n",
      "NO.6, loss:1.493\n",
      "NO.7, loss:0.981\n",
      "NO.8, loss:0.649\n",
      "NO.9, loss:0.433\n",
      "NO.10, loss:0.295\n"
     ]
    }
   ],
   "source": [
    "from mxnet import nd\n",
    "from mxnet import autograd as ag\n",
    "from mxnet.gluon import nn\n",
    "from mxnet import gluon\n",
    "\n",
    "conv2d=nn.Conv2D(1,kernel_size=(1,2))\n",
    "conv2d.initialize()\n",
    "\n",
    "##X=nd.ones((1,1,6,8))\n",
    "##X[:,:,:,2:6]=0\n",
    "##K=nd.array([[1,-1]])\n",
    "##Y=corr2d(X,K)\n",
    "##corr2d只能用在二维数组\n",
    "X=nd.ones((6,8))\n",
    "X[:,4:5]=0\n",
    "K=nd.array([[1,-1]])\n",
    "Y=corr2d(X,K)\n",
    "print(X,K,Y)\n",
    "X=X.reshape((1,1,6,8))\n",
    "Y=Y.reshape((1,1,6,7))\n",
    "\n",
    "for i in range(10):\n",
    "    with ag.record():\n",
    "        Y_hat=conv2d(X)\n",
    "        l=(Y-Y_hat)**2\n",
    "    l.backward()\n",
    "    conv2d.weight.data()[:]-=16e-3 * conv2d.weight.grad()\n",
    "    print('NO.%d, loss:%.3f'%(i+1,l.sum().asscalar()))"
   ]
  },
  {
   "cell_type": "code",
   "execution_count": 66,
   "metadata": {
    "ExecuteTime": {
     "end_time": "2019-05-04T02:32:09.104062Z",
     "start_time": "2019-05-04T02:32:09.098056Z"
    }
   },
   "outputs": [
    {
     "name": "stdout",
     "output_type": "stream",
     "text": [
      "\n",
      "[[ 0.8634343 -0.8944946]]\n",
      "<NDArray 1x2 @cpu(0)>\n"
     ]
    }
   ],
   "source": [
    "print(conv2d.weight.data().reshape((1,2)))"
   ]
  }
 ],
 "metadata": {
  "kernelspec": {
   "display_name": "gluon",
   "language": "python",
   "name": "gluon"
  },
  "language_info": {
   "codemirror_mode": {
    "name": "ipython",
    "version": 3
   },
   "file_extension": ".py",
   "mimetype": "text/x-python",
   "name": "python",
   "nbconvert_exporter": "python",
   "pygments_lexer": "ipython3",
   "version": "3.6.8"
  },
  "latex_envs": {
   "LaTeX_envs_menu_present": true,
   "autoclose": false,
   "autocomplete": true,
   "bibliofile": "biblio.bib",
   "cite_by": "apalike",
   "current_citInitial": 1,
   "eqLabelWithNumbers": true,
   "eqNumInitial": 1,
   "hotkeys": {
    "equation": "Ctrl-E",
    "itemize": "Ctrl-I"
   },
   "labels_anchors": false,
   "latex_user_defs": false,
   "report_style_numbering": false,
   "user_envs_cfg": false
  },
  "toc": {
   "base_numbering": 1,
   "nav_menu": {},
   "number_sections": true,
   "sideBar": true,
   "skip_h1_title": false,
   "title_cell": "Table of Contents",
   "title_sidebar": "Contents",
   "toc_cell": false,
   "toc_position": {},
   "toc_section_display": true,
   "toc_window_display": false
  },
  "varInspector": {
   "cols": {
    "lenName": 16,
    "lenType": 16,
    "lenVar": 40
   },
   "kernels_config": {
    "python": {
     "delete_cmd_postfix": "",
     "delete_cmd_prefix": "del ",
     "library": "var_list.py",
     "varRefreshCmd": "print(var_dic_list())"
    },
    "r": {
     "delete_cmd_postfix": ") ",
     "delete_cmd_prefix": "rm(",
     "library": "var_list.r",
     "varRefreshCmd": "cat(var_dic_list()) "
    }
   },
   "types_to_exclude": [
    "module",
    "function",
    "builtin_function_or_method",
    "instance",
    "_Feature"
   ],
   "window_display": false
  }
 },
 "nbformat": 4,
 "nbformat_minor": 2
}
