{
 "cells": [
  {
   "cell_type": "markdown",
   "metadata": {},
   "source": [
    "# 卷积神经网络"
   ]
  },
  {
   "cell_type": "markdown",
   "metadata": {},
   "source": [
    "## 二维互相关运算"
   ]
  },
  {
   "cell_type": "code",
   "execution_count": 1,
   "metadata": {
    "ExecuteTime": {
     "end_time": "2019-05-04T01:38:36.797382Z",
     "start_time": "2019-05-04T01:38:25.670973Z"
    }
   },
   "outputs": [],
   "source": [
    "from mxnet import autograd as ag\n",
    "from mxnet import nd\n",
    "from mxnet.gluon import nn"
   ]
  },
  {
   "cell_type": "code",
   "execution_count": 28,
   "metadata": {
    "ExecuteTime": {
     "end_time": "2019-05-04T09:59:44.867321Z",
     "start_time": "2019-05-04T09:59:44.860316Z"
    }
   },
   "outputs": [],
   "source": [
    "def corr2d(X,K):\n",
    "    h,w=K.shape\n",
    "    Y=nd.zeros((X.shape[0]-h+1,X.shape[1]-w+1))\n",
    "    for i in range(X.shape[0]-h+1):\n",
    "        for j in range(X.shape[1]-w+1):\n",
    "            Y[i,j]=(X[i:i+h,j:j+w]*K).sum()\n",
    "            print(Y[i,j])\n",
    "    return Y"
   ]
  },
  {
   "cell_type": "code",
   "execution_count": 29,
   "metadata": {
    "ExecuteTime": {
     "end_time": "2019-05-04T09:59:45.581735Z",
     "start_time": "2019-05-04T09:59:45.563725Z"
    }
   },
   "outputs": [
    {
     "name": "stdout",
     "output_type": "stream",
     "text": [
      "\n",
      "[19.]\n",
      "<NDArray 1 @cpu(0)>\n",
      "\n",
      "[25.]\n",
      "<NDArray 1 @cpu(0)>\n",
      "\n",
      "[37.]\n",
      "<NDArray 1 @cpu(0)>\n",
      "\n",
      "[43.]\n",
      "<NDArray 1 @cpu(0)>\n"
     ]
    },
    {
     "data": {
      "text/plain": [
       "\n",
       "[[19. 25.]\n",
       " [37. 43.]]\n",
       "<NDArray 2x2 @cpu(0)>"
      ]
     },
     "execution_count": 29,
     "metadata": {},
     "output_type": "execute_result"
    }
   ],
   "source": [
    "X = nd.array([[0, 1, 2], [3, 4, 5], [6, 7, 8]])\n",
    "K = nd.array([[0, 1], [2, 3]])\n",
    "corr2d(X, K)"
   ]
  },
  {
   "cell_type": "markdown",
   "metadata": {},
   "source": [
    "## 二维卷积层"
   ]
  },
  {
   "cell_type": "code",
   "execution_count": 6,
   "metadata": {
    "ExecuteTime": {
     "end_time": "2019-05-04T01:51:37.873368Z",
     "start_time": "2019-05-04T01:51:37.867366Z"
    }
   },
   "outputs": [],
   "source": [
    "class Conv2d(nn.Block):\n",
    "    def __init__(self,kernel_size,**kwargs):\n",
    "        super(Conv2d,self).__init__(**kwargs)\n",
    "        self.weight=self.params.get('weight',shape=kernel_size)\n",
    "        self.bias=self.params.get('bias',shape=(1,))\n",
    "        \n",
    "    def forward(self,x):\n",
    "        return corr2d(x,self.weight.data())+self.bias.data()"
   ]
  },
  {
   "cell_type": "markdown",
   "metadata": {},
   "source": [
    "## 通过数据学习核数组"
   ]
  },
  {
   "cell_type": "code",
   "execution_count": 65,
   "metadata": {
    "ExecuteTime": {
     "end_time": "2019-05-04T02:32:05.579677Z",
     "start_time": "2019-05-04T02:32:05.515634Z"
    }
   },
   "outputs": [
    {
     "name": "stdout",
     "output_type": "stream",
     "text": [
      "\n",
      "[[1. 1. 1. 1. 0. 1. 1. 1.]\n",
      " [1. 1. 1. 1. 0. 1. 1. 1.]\n",
      " [1. 1. 1. 1. 0. 1. 1. 1.]\n",
      " [1. 1. 1. 1. 0. 1. 1. 1.]\n",
      " [1. 1. 1. 1. 0. 1. 1. 1.]\n",
      " [1. 1. 1. 1. 0. 1. 1. 1.]]\n",
      "<NDArray 6x8 @cpu(0)> \n",
      "[[ 1. -1.]]\n",
      "<NDArray 1x2 @cpu(0)> \n",
      "[[ 0.  0.  0.  1. -1.  0.  0.]\n",
      " [ 0.  0.  0.  1. -1.  0.  0.]\n",
      " [ 0.  0.  0.  1. -1.  0.  0.]\n",
      " [ 0.  0.  0.  1. -1.  0.  0.]\n",
      " [ 0.  0.  0.  1. -1.  0.  0.]\n",
      " [ 0.  0.  0.  1. -1.  0.  0.]]\n",
      "<NDArray 6x7 @cpu(0)>\n",
      "NO.1, loss:12.500\n",
      "NO.2, loss:8.163\n",
      "NO.3, loss:5.332\n",
      "NO.4, loss:3.485\n",
      "NO.5, loss:2.279\n",
      "NO.6, loss:1.493\n",
      "NO.7, loss:0.981\n",
      "NO.8, loss:0.649\n",
      "NO.9, loss:0.433\n",
      "NO.10, loss:0.295\n"
     ]
    }
   ],
   "source": [
    "from mxnet import nd\n",
    "from mxnet import autograd as ag\n",
    "from mxnet.gluon import nn\n",
    "from mxnet import gluon\n",
    "\n",
    "conv2d=nn.Conv2D(1,kernel_size=(1,2))\n",
    "conv2d.initialize()\n",
    "\n",
    "##X=nd.ones((1,1,6,8))\n",
    "##X[:,:,:,2:6]=0\n",
    "##K=nd.array([[1,-1]])\n",
    "##Y=corr2d(X,K)\n",
    "##corr2d只能用在二维数组\n",
    "X=nd.ones((6,8))\n",
    "X[:,4:5]=0\n",
    "K=nd.array([[1,-1]])\n",
    "Y=corr2d(X,K)\n",
    "print(X,K,Y)\n",
    "X=X.reshape((1,1,6,8))\n",
    "Y=Y.reshape((1,1,6,7))\n",
    "\n",
    "for i in range(10):\n",
    "    with ag.record():\n",
    "        Y_hat=conv2d(X)\n",
    "        l=(Y-Y_hat)**2\n",
    "    l.backward()\n",
    "    conv2d.weight.data()[:]-=16e-3 * conv2d.weight.grad()\n",
    "    print('NO.%d, loss:%.3f'%(i+1,l.sum().asscalar()))"
   ]
  },
  {
   "cell_type": "code",
   "execution_count": 66,
   "metadata": {
    "ExecuteTime": {
     "end_time": "2019-05-04T02:32:09.104062Z",
     "start_time": "2019-05-04T02:32:09.098056Z"
    }
   },
   "outputs": [
    {
     "name": "stdout",
     "output_type": "stream",
     "text": [
      "\n",
      "[[ 0.8634343 -0.8944946]]\n",
      "<NDArray 1x2 @cpu(0)>\n"
     ]
    }
   ],
   "source": [
    "print(conv2d.weight.data().reshape((1,2)))"
   ]
  },
  {
   "cell_type": "markdown",
   "metadata": {},
   "source": [
    "## 填充与步长"
   ]
  },
  {
   "cell_type": "markdown",
   "metadata": {},
   "source": [
    "### 填充"
   ]
  },
  {
   "cell_type": "code",
   "execution_count": 8,
   "metadata": {
    "ExecuteTime": {
     "end_time": "2019-05-04T09:06:34.584340Z",
     "start_time": "2019-05-04T09:06:34.578334Z"
    }
   },
   "outputs": [],
   "source": [
    "from mxnet import nd\n",
    "from mxnet.gluon import nn\n",
    "\n",
    "def comp_conv2d(conv2d,X):\n",
    "    conv2d.initialize()\n",
    "    print(X)\n",
    "    X=X.reshape((1,1)+X.shape)\n",
    "    print(X)\n",
    "    Y=conv2d(X)\n",
    "    return Y.reshape(Y.shape[2:])"
   ]
  },
  {
   "cell_type": "code",
   "execution_count": 10,
   "metadata": {
    "ExecuteTime": {
     "end_time": "2019-05-04T09:15:17.577834Z",
     "start_time": "2019-05-04T09:15:17.557821Z"
    }
   },
   "outputs": [
    {
     "name": "stdout",
     "output_type": "stream",
     "text": [
      "\n",
      "[[0.1709866  0.7936977  0.46345097 0.22392468 0.87457293 0.34535167\n",
      "  0.94411975 0.9280813 ]\n",
      " [0.6082529  0.7044144  0.5966554  0.03183892 0.78364426 0.16469416\n",
      "  0.5000263  0.6214784 ]\n",
      " [0.05037006 0.5772286  0.69909805 0.23789282 0.9923964  0.934214\n",
      "  0.26726255 0.6139659 ]\n",
      " [0.6790906  0.5356328  0.8642814  0.58991    0.75084424 0.730122\n",
      "  0.96448976 0.311945  ]\n",
      " [0.55424243 0.39822108 0.2123905  0.20984375 0.22244322 0.186193\n",
      "  0.21874937 0.9443724 ]\n",
      " [0.5695735  0.73955077 0.45210904 0.49045882 0.97023666 0.22741462\n",
      "  0.6805447  0.25435647]\n",
      " [0.08529557 0.05802916 0.05641833 0.43441662 0.4878377  0.3117959\n",
      "  0.8810046  0.6963435 ]\n",
      " [0.97640437 0.37775183 0.6176579  0.17960368 0.54249877 0.02467873\n",
      "  0.8546136  0.06724963]]\n",
      "<NDArray 8x8 @cpu(0)>\n",
      "\n",
      "[[[[0.1709866  0.7936977  0.46345097 0.22392468 0.87457293 0.34535167\n",
      "    0.94411975 0.9280813 ]\n",
      "   [0.6082529  0.7044144  0.5966554  0.03183892 0.78364426 0.16469416\n",
      "    0.5000263  0.6214784 ]\n",
      "   [0.05037006 0.5772286  0.69909805 0.23789282 0.9923964  0.934214\n",
      "    0.26726255 0.6139659 ]\n",
      "   [0.6790906  0.5356328  0.8642814  0.58991    0.75084424 0.730122\n",
      "    0.96448976 0.311945  ]\n",
      "   [0.55424243 0.39822108 0.2123905  0.20984375 0.22244322 0.186193\n",
      "    0.21874937 0.9443724 ]\n",
      "   [0.5695735  0.73955077 0.45210904 0.49045882 0.97023666 0.22741462\n",
      "    0.6805447  0.25435647]\n",
      "   [0.08529557 0.05802916 0.05641833 0.43441662 0.4878377  0.3117959\n",
      "    0.8810046  0.6963435 ]\n",
      "   [0.97640437 0.37775183 0.6176579  0.17960368 0.54249877 0.02467873\n",
      "    0.8546136  0.06724963]]]]\n",
      "<NDArray 1x1x8x8 @cpu(0)>\n"
     ]
    },
    {
     "data": {
      "text/plain": [
       "\n",
       "[[0.06325529 0.08711027 0.05213947 0.04129013 0.07094524 0.04364694\n",
       "  0.07483687 0.05889497]\n",
       " [0.04075016 0.09478176 0.10307626 0.07327566 0.13539585 0.11204958\n",
       "  0.09452803 0.1058052 ]\n",
       " [0.07118268 0.12013233 0.12749954 0.09354834 0.1206032  0.12827429\n",
       "  0.09391213 0.077944  ]\n",
       " [0.06186286 0.06422949 0.08159543 0.06125565 0.06986945 0.0949606\n",
       "  0.10086315 0.08174755]\n",
       " [0.08508988 0.10460718 0.09291475 0.1102097  0.10998198 0.09299761\n",
       "  0.10611159 0.08707771]\n",
       " [0.03711537 0.0514392  0.04428569 0.06568468 0.07720461 0.06555483\n",
       "  0.10024891 0.08495331]\n",
       " [0.08007845 0.09201317 0.08373873 0.07328317 0.08486408 0.08106042\n",
       "  0.09733039 0.05771422]\n",
       " [0.02810926 0.01039866 0.01587977 0.01460138 0.03855877 0.0233157\n",
       "  0.05205503 0.0436906 ]]\n",
       "<NDArray 8x8 @cpu(0)>"
      ]
     },
     "execution_count": 10,
     "metadata": {},
     "output_type": "execute_result"
    }
   ],
   "source": [
    "##当卷积核的宽与高相同时\n",
    "conv2d=nn.Conv2D(1,kernel_size=3,padding=1)\n",
    "X=nd.random.uniform(shape=(8,8))\n",
    "comp_conv2d(conv2d,X)"
   ]
  },
  {
   "cell_type": "code",
   "execution_count": 11,
   "metadata": {
    "ExecuteTime": {
     "end_time": "2019-05-04T09:18:53.530942Z",
     "start_time": "2019-05-04T09:18:53.513929Z"
    }
   },
   "outputs": [
    {
     "name": "stdout",
     "output_type": "stream",
     "text": [
      "\n",
      "[[0.1709866  0.7936977  0.46345097 0.22392468 0.87457293 0.34535167\n",
      "  0.94411975 0.9280813 ]\n",
      " [0.6082529  0.7044144  0.5966554  0.03183892 0.78364426 0.16469416\n",
      "  0.5000263  0.6214784 ]\n",
      " [0.05037006 0.5772286  0.69909805 0.23789282 0.9923964  0.934214\n",
      "  0.26726255 0.6139659 ]\n",
      " [0.6790906  0.5356328  0.8642814  0.58991    0.75084424 0.730122\n",
      "  0.96448976 0.311945  ]\n",
      " [0.55424243 0.39822108 0.2123905  0.20984375 0.22244322 0.186193\n",
      "  0.21874937 0.9443724 ]\n",
      " [0.5695735  0.73955077 0.45210904 0.49045882 0.97023666 0.22741462\n",
      "  0.6805447  0.25435647]\n",
      " [0.08529557 0.05802916 0.05641833 0.43441662 0.4878377  0.3117959\n",
      "  0.8810046  0.6963435 ]\n",
      " [0.97640437 0.37775183 0.6176579  0.17960368 0.54249877 0.02467873\n",
      "  0.8546136  0.06724963]]\n",
      "<NDArray 8x8 @cpu(0)>\n",
      "\n",
      "[[[[0.1709866  0.7936977  0.46345097 0.22392468 0.87457293 0.34535167\n",
      "    0.94411975 0.9280813 ]\n",
      "   [0.6082529  0.7044144  0.5966554  0.03183892 0.78364426 0.16469416\n",
      "    0.5000263  0.6214784 ]\n",
      "   [0.05037006 0.5772286  0.69909805 0.23789282 0.9923964  0.934214\n",
      "    0.26726255 0.6139659 ]\n",
      "   [0.6790906  0.5356328  0.8642814  0.58991    0.75084424 0.730122\n",
      "    0.96448976 0.311945  ]\n",
      "   [0.55424243 0.39822108 0.2123905  0.20984375 0.22244322 0.186193\n",
      "    0.21874937 0.9443724 ]\n",
      "   [0.5695735  0.73955077 0.45210904 0.49045882 0.97023666 0.22741462\n",
      "    0.6805447  0.25435647]\n",
      "   [0.08529557 0.05802916 0.05641833 0.43441662 0.4878377  0.3117959\n",
      "    0.8810046  0.6963435 ]\n",
      "   [0.97640437 0.37775183 0.6176579  0.17960368 0.54249877 0.02467873\n",
      "    0.8546136  0.06724963]]]]\n",
      "<NDArray 1x1x8x8 @cpu(0)>\n"
     ]
    },
    {
     "data": {
      "text/plain": [
       "\n",
       "[[-0.00888047 -0.02277429 -0.04712824 -0.08536141 -0.00412371 -0.08338698\n",
       "  -0.09505665 -0.04686656]\n",
       " [ 0.03326854  0.00289858  0.00458245  0.01253504  0.07885367  0.00546528\n",
       "   0.03784898 -0.02732092]\n",
       " [ 0.05854703  0.00328338  0.02516939 -0.03242282 -0.04789305  0.00110136\n",
       "  -0.0409156   0.05459823]\n",
       " [-0.00545369 -0.01507675 -0.02798554 -0.02966088  0.00888432 -0.07567502\n",
       "   0.00566554  0.01936315]\n",
       " [ 0.0320082   0.0071927   0.04830979  0.09353697  0.03961273  0.08774883\n",
       "   0.05352303 -0.03767506]\n",
       " [-0.01207006 -0.07034823 -0.0107752  -0.03641871 -0.01443569 -0.05020854\n",
       "   0.1359678   0.02368721]\n",
       " [ 0.08420652  0.0671168   0.03546277  0.02387804 -0.00781548 -0.02139696\n",
       "  -0.06520914 -0.08192366]\n",
       " [-0.10143605 -0.07095678 -0.00089312 -0.03817952  0.01155506  0.01632132\n",
       "   0.01170317  0.0243714 ]]\n",
       "<NDArray 8x8 @cpu(0)>"
      ]
     },
     "execution_count": 11,
     "metadata": {},
     "output_type": "execute_result"
    }
   ],
   "source": [
    "##当卷积核的宽与高不同时\n",
    "conv2d=nn.Conv2D(1,kernel_size=(5,3),padding=(2,1))\n",
    "comp_conv2d(conv2d,X)"
   ]
  },
  {
   "cell_type": "markdown",
   "metadata": {},
   "source": [
    "### 步长"
   ]
  },
  {
   "cell_type": "code",
   "execution_count": 12,
   "metadata": {
    "ExecuteTime": {
     "end_time": "2019-05-04T09:27:31.866876Z",
     "start_time": "2019-05-04T09:27:31.847862Z"
    }
   },
   "outputs": [
    {
     "name": "stdout",
     "output_type": "stream",
     "text": [
      "\n",
      "[[0.1709866  0.7936977  0.46345097 0.22392468 0.87457293 0.34535167\n",
      "  0.94411975 0.9280813 ]\n",
      " [0.6082529  0.7044144  0.5966554  0.03183892 0.78364426 0.16469416\n",
      "  0.5000263  0.6214784 ]\n",
      " [0.05037006 0.5772286  0.69909805 0.23789282 0.9923964  0.934214\n",
      "  0.26726255 0.6139659 ]\n",
      " [0.6790906  0.5356328  0.8642814  0.58991    0.75084424 0.730122\n",
      "  0.96448976 0.311945  ]\n",
      " [0.55424243 0.39822108 0.2123905  0.20984375 0.22244322 0.186193\n",
      "  0.21874937 0.9443724 ]\n",
      " [0.5695735  0.73955077 0.45210904 0.49045882 0.97023666 0.22741462\n",
      "  0.6805447  0.25435647]\n",
      " [0.08529557 0.05802916 0.05641833 0.43441662 0.4878377  0.3117959\n",
      "  0.8810046  0.6963435 ]\n",
      " [0.97640437 0.37775183 0.6176579  0.17960368 0.54249877 0.02467873\n",
      "  0.8546136  0.06724963]]\n",
      "<NDArray 8x8 @cpu(0)>\n",
      "\n",
      "[[[[0.1709866  0.7936977  0.46345097 0.22392468 0.87457293 0.34535167\n",
      "    0.94411975 0.9280813 ]\n",
      "   [0.6082529  0.7044144  0.5966554  0.03183892 0.78364426 0.16469416\n",
      "    0.5000263  0.6214784 ]\n",
      "   [0.05037006 0.5772286  0.69909805 0.23789282 0.9923964  0.934214\n",
      "    0.26726255 0.6139659 ]\n",
      "   [0.6790906  0.5356328  0.8642814  0.58991    0.75084424 0.730122\n",
      "    0.96448976 0.311945  ]\n",
      "   [0.55424243 0.39822108 0.2123905  0.20984375 0.22244322 0.186193\n",
      "    0.21874937 0.9443724 ]\n",
      "   [0.5695735  0.73955077 0.45210904 0.49045882 0.97023666 0.22741462\n",
      "    0.6805447  0.25435647]\n",
      "   [0.08529557 0.05802916 0.05641833 0.43441662 0.4878377  0.3117959\n",
      "    0.8810046  0.6963435 ]\n",
      "   [0.97640437 0.37775183 0.6176579  0.17960368 0.54249877 0.02467873\n",
      "    0.8546136  0.06724963]]]]\n",
      "<NDArray 1x1x8x8 @cpu(0)>\n"
     ]
    },
    {
     "data": {
      "text/plain": [
       "\n",
       "[[ 0.02798326  0.02309377  0.05334493  0.03356022]\n",
       " [ 0.02211411  0.04601283  0.01558262  0.04041121]\n",
       " [ 0.01420592 -0.01112313  0.0274049   0.05834443]\n",
       " [ 0.03116412  0.02038928  0.05861697  0.0773566 ]]\n",
       "<NDArray 4x4 @cpu(0)>"
      ]
     },
     "execution_count": 12,
     "metadata": {},
     "output_type": "execute_result"
    }
   ],
   "source": [
    "conv2d=nn.Conv2D(1,kernel_size=3,padding=1,strides=2)\n",
    "comp_conv2d(conv2d,X)"
   ]
  },
  {
   "cell_type": "code",
   "execution_count": 22,
   "metadata": {
    "ExecuteTime": {
     "end_time": "2019-05-04T09:55:23.316203Z",
     "start_time": "2019-05-04T09:55:23.296192Z"
    }
   },
   "outputs": [
    {
     "name": "stdout",
     "output_type": "stream",
     "text": [
      "\n",
      "[[0.1709866  0.7936977  0.46345097 0.22392468 0.87457293 0.34535167\n",
      "  0.94411975 0.9280813 ]\n",
      " [0.6082529  0.7044144  0.5966554  0.03183892 0.78364426 0.16469416\n",
      "  0.5000263  0.6214784 ]\n",
      " [0.05037006 0.5772286  0.69909805 0.23789282 0.9923964  0.934214\n",
      "  0.26726255 0.6139659 ]\n",
      " [0.6790906  0.5356328  0.8642814  0.58991    0.75084424 0.730122\n",
      "  0.96448976 0.311945  ]\n",
      " [0.55424243 0.39822108 0.2123905  0.20984375 0.22244322 0.186193\n",
      "  0.21874937 0.9443724 ]\n",
      " [0.5695735  0.73955077 0.45210904 0.49045882 0.97023666 0.22741462\n",
      "  0.6805447  0.25435647]\n",
      " [0.08529557 0.05802916 0.05641833 0.43441662 0.4878377  0.3117959\n",
      "  0.8810046  0.6963435 ]\n",
      " [0.97640437 0.37775183 0.6176579  0.17960368 0.54249877 0.02467873\n",
      "  0.8546136  0.06724963]]\n",
      "<NDArray 8x8 @cpu(0)>\n",
      "\n",
      "[[[[0.1709866  0.7936977  0.46345097 0.22392468 0.87457293 0.34535167\n",
      "    0.94411975 0.9280813 ]\n",
      "   [0.6082529  0.7044144  0.5966554  0.03183892 0.78364426 0.16469416\n",
      "    0.5000263  0.6214784 ]\n",
      "   [0.05037006 0.5772286  0.69909805 0.23789282 0.9923964  0.934214\n",
      "    0.26726255 0.6139659 ]\n",
      "   [0.6790906  0.5356328  0.8642814  0.58991    0.75084424 0.730122\n",
      "    0.96448976 0.311945  ]\n",
      "   [0.55424243 0.39822108 0.2123905  0.20984375 0.22244322 0.186193\n",
      "    0.21874937 0.9443724 ]\n",
      "   [0.5695735  0.73955077 0.45210904 0.49045882 0.97023666 0.22741462\n",
      "    0.6805447  0.25435647]\n",
      "   [0.08529557 0.05802916 0.05641833 0.43441662 0.4878377  0.3117959\n",
      "    0.8810046  0.6963435 ]\n",
      "   [0.97640437 0.37775183 0.6176579  0.17960368 0.54249877 0.02467873\n",
      "    0.8546136  0.06724963]]]]\n",
      "<NDArray 1x1x8x8 @cpu(0)>\n"
     ]
    },
    {
     "data": {
      "text/plain": [
       "\n",
       "[[ 0.06721418 -0.0340129 ]\n",
       " [ 0.00882575  0.00317134]]\n",
       "<NDArray 2x2 @cpu(0)>"
      ]
     },
     "execution_count": 22,
     "metadata": {},
     "output_type": "execute_result"
    }
   ],
   "source": [
    "conv2d=nn.Conv2D(1,kernel_size=(3,5),padding=(0,1),strides=(3,5))\n",
    "comp_conv2d(conv2d,X)\n",
    "##当strides为1时，输出shape为（6,6），所以6/5≈2，因为取不到的值默认为0"
   ]
  },
  {
   "cell_type": "markdown",
   "metadata": {},
   "source": [
    "## 多输入通道及多输出通道"
   ]
  },
  {
   "cell_type": "markdown",
   "metadata": {},
   "source": [
    "### 多输入通道"
   ]
  },
  {
   "cell_type": "code",
   "execution_count": 1,
   "metadata": {
    "ExecuteTime": {
     "end_time": "2019-05-04T13:33:16.400822Z",
     "start_time": "2019-05-04T13:33:03.693762Z"
    }
   },
   "outputs": [],
   "source": [
    "from mxnet.gluon import nn\n",
    "from mxnet import nd\n",
    "import d2lzh as d2l"
   ]
  },
  {
   "cell_type": "code",
   "execution_count": 8,
   "metadata": {
    "ExecuteTime": {
     "end_time": "2019-05-04T13:38:58.483593Z",
     "start_time": "2019-05-04T13:38:58.478588Z"
    }
   },
   "outputs": [],
   "source": [
    "def corr2d_multi_in(X,K):\n",
    "    return nd.add_n(*[d2l.corr2d(x,k) for x,k in zip(X,K)])"
   ]
  },
  {
   "cell_type": "code",
   "execution_count": 9,
   "metadata": {
    "ExecuteTime": {
     "end_time": "2019-05-04T13:38:59.491208Z",
     "start_time": "2019-05-04T13:38:59.083741Z"
    }
   },
   "outputs": [
    {
     "data": {
      "text/plain": [
       "\n",
       "[[ 56.  72.]\n",
       " [104. 120.]]\n",
       "<NDArray 2x2 @cpu(0)>"
      ]
     },
     "execution_count": 9,
     "metadata": {},
     "output_type": "execute_result"
    }
   ],
   "source": [
    "X = nd.array([[[0, 1, 2], [3, 4, 5], [6, 7, 8]],\n",
    "              [[1, 2, 3], [4, 5, 6], [7, 8, 9]]])\n",
    "K = nd.array([[[0, 1], [2, 3]], [[1, 2], [3, 4]]])\n",
    "\n",
    "corr2d_multi_in(X, K)"
   ]
  },
  {
   "cell_type": "markdown",
   "metadata": {},
   "source": [
    "### 多输出通道"
   ]
  },
  {
   "cell_type": "code",
   "execution_count": 10,
   "metadata": {
    "ExecuteTime": {
     "end_time": "2019-05-04T13:49:38.973319Z",
     "start_time": "2019-05-04T13:49:38.969315Z"
    }
   },
   "outputs": [],
   "source": [
    "def corr2d_multi_in_out(X,K):\n",
    "    return nd.stack(*[corr2d_multi_in(X,k) for k in K])"
   ]
  },
  {
   "cell_type": "code",
   "execution_count": 11,
   "metadata": {
    "ExecuteTime": {
     "end_time": "2019-05-04T13:50:08.446448Z",
     "start_time": "2019-05-04T13:50:08.244430Z"
    }
   },
   "outputs": [
    {
     "data": {
      "text/plain": [
       "(3, 2, 2, 2)"
      ]
     },
     "execution_count": 11,
     "metadata": {},
     "output_type": "execute_result"
    }
   ],
   "source": [
    "K = nd.array([[[0, 1], [2, 3]], [[1, 2], [3, 4]]])\n",
    "K=nd.stack(K,K+1,K+2)\n",
    "K.shape"
   ]
  },
  {
   "cell_type": "code",
   "execution_count": 13,
   "metadata": {
    "ExecuteTime": {
     "end_time": "2019-05-04T13:50:32.877652Z",
     "start_time": "2019-05-04T13:50:32.855640Z"
    }
   },
   "outputs": [
    {
     "data": {
      "text/plain": [
       "\n",
       "[[[ 56.  72.]\n",
       "  [104. 120.]]\n",
       "\n",
       " [[ 76. 100.]\n",
       "  [148. 172.]]\n",
       "\n",
       " [[ 96. 128.]\n",
       "  [192. 224.]]]\n",
       "<NDArray 3x2x2 @cpu(0)>"
      ]
     },
     "execution_count": 13,
     "metadata": {},
     "output_type": "execute_result"
    }
   ],
   "source": [
    "corr2d_multi_in_out(X,K)"
   ]
  },
  {
   "cell_type": "markdown",
   "metadata": {},
   "source": [
    "### 1X1卷积层"
   ]
  },
  {
   "cell_type": "code",
   "execution_count": null,
   "metadata": {},
   "outputs": [],
   "source": [
    "def corr2d_multi_in_out_1x1(X,K):\n",
    "    c_i,h,w=X.shape\n",
    "    c_o=K.shape[0]\n",
    "    X=X.reshape((c_i,h*w))\n",
    "    K=K.reshape((c_o,c_i))\n",
    "    Y=nd.dot(K,X)\n",
    "    return Y.shape(c_o,h,w)\n",
    "    ## 计算结果与corr2d_multi_in_out是一样的"
   ]
  }
 ],
 "metadata": {
  "kernelspec": {
   "display_name": "gluon",
   "language": "python",
   "name": "gluon"
  },
  "language_info": {
   "codemirror_mode": {
    "name": "ipython",
    "version": 3
   },
   "file_extension": ".py",
   "mimetype": "text/x-python",
   "name": "python",
   "nbconvert_exporter": "python",
   "pygments_lexer": "ipython3",
   "version": "3.6.8"
  },
  "latex_envs": {
   "LaTeX_envs_menu_present": true,
   "autoclose": false,
   "autocomplete": true,
   "bibliofile": "biblio.bib",
   "cite_by": "apalike",
   "current_citInitial": 1,
   "eqLabelWithNumbers": true,
   "eqNumInitial": 1,
   "hotkeys": {
    "equation": "Ctrl-E",
    "itemize": "Ctrl-I"
   },
   "labels_anchors": false,
   "latex_user_defs": false,
   "report_style_numbering": false,
   "user_envs_cfg": false
  },
  "toc": {
   "base_numbering": 1,
   "nav_menu": {},
   "number_sections": true,
   "sideBar": true,
   "skip_h1_title": false,
   "title_cell": "Table of Contents",
   "title_sidebar": "Contents",
   "toc_cell": false,
   "toc_position": {},
   "toc_section_display": true,
   "toc_window_display": false
  },
  "varInspector": {
   "cols": {
    "lenName": 16,
    "lenType": 16,
    "lenVar": 40
   },
   "kernels_config": {
    "python": {
     "delete_cmd_postfix": "",
     "delete_cmd_prefix": "del ",
     "library": "var_list.py",
     "varRefreshCmd": "print(var_dic_list())"
    },
    "r": {
     "delete_cmd_postfix": ") ",
     "delete_cmd_prefix": "rm(",
     "library": "var_list.r",
     "varRefreshCmd": "cat(var_dic_list()) "
    }
   },
   "types_to_exclude": [
    "module",
    "function",
    "builtin_function_or_method",
    "instance",
    "_Feature"
   ],
   "window_display": false
  }
 },
 "nbformat": 4,
 "nbformat_minor": 2
}
