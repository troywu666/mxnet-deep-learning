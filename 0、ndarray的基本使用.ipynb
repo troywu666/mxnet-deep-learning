{
 "cells": [
  {
   "cell_type": "markdown",
   "metadata": {},
   "source": [
    "# ndarrray的基本操作"
   ]
  },
  {
   "cell_type": "code",
   "execution_count": null,
   "metadata": {
    "ExecuteTime": {
     "end_time": "2019-04-20T02:45:32.120100Z",
     "start_time": "2019-04-20T02:45:20.700765Z"
    }
   },
   "outputs": [],
   "source": [
    "from mxnet import nd"
   ]
  },
  {
   "cell_type": "code",
   "execution_count": null,
   "metadata": {
    "ExecuteTime": {
     "end_time": "2019-04-20T02:45:38.248058Z",
     "start_time": "2019-04-20T02:45:38.230045Z"
    }
   },
   "outputs": [],
   "source": [
    "x=nd.arange(12)\n",
    "x"
   ]
  },
  {
   "cell_type": "code",
   "execution_count": null,
   "metadata": {
    "ExecuteTime": {
     "end_time": "2019-04-20T02:46:16.507491Z",
     "start_time": "2019-04-20T02:46:16.501486Z"
    }
   },
   "outputs": [],
   "source": [
    "x.shape"
   ]
  },
  {
   "cell_type": "code",
   "execution_count": null,
   "metadata": {
    "ExecuteTime": {
     "end_time": "2019-04-20T02:46:20.202959Z",
     "start_time": "2019-04-20T02:46:20.194951Z"
    }
   },
   "outputs": [],
   "source": [
    "x.size"
   ]
  },
  {
   "cell_type": "code",
   "execution_count": null,
   "metadata": {
    "ExecuteTime": {
     "end_time": "2019-04-20T02:49:46.806749Z",
     "start_time": "2019-04-20T02:49:46.798742Z"
    }
   },
   "outputs": [],
   "source": [
    "x.reshape(3,4)"
   ]
  },
  {
   "cell_type": "code",
   "execution_count": null,
   "metadata": {
    "ExecuteTime": {
     "end_time": "2019-04-20T02:55:59.362615Z",
     "start_time": "2019-04-20T02:55:59.354610Z"
    }
   },
   "outputs": [],
   "source": [
    "X=nd.zeros((2,3,4))\n",
    "X"
   ]
  },
  {
   "cell_type": "code",
   "execution_count": null,
   "metadata": {
    "ExecuteTime": {
     "end_time": "2019-04-20T03:11:38.738444Z",
     "start_time": "2019-04-20T03:11:38.558917Z"
    }
   },
   "outputs": [],
   "source": [
    "X=nd.ones((3,4))\n",
    "X"
   ]
  },
  {
   "cell_type": "code",
   "execution_count": null,
   "metadata": {
    "ExecuteTime": {
     "end_time": "2019-04-20T03:11:39.054979Z",
     "start_time": "2019-04-20T03:11:39.045977Z"
    }
   },
   "outputs": [],
   "source": [
    "Y=nd.array([[2,1,4,3],[1,2,3,4],[4,3,2,1]])\n",
    "Y"
   ]
  },
  {
   "cell_type": "code",
   "execution_count": null,
   "metadata": {
    "ExecuteTime": {
     "end_time": "2019-04-20T02:56:15.941891Z",
     "start_time": "2019-04-20T02:56:15.934887Z"
    }
   },
   "outputs": [],
   "source": [
    "z=X+y\n",
    "z"
   ]
  },
  {
   "cell_type": "code",
   "execution_count": null,
   "metadata": {
    "ExecuteTime": {
     "end_time": "2019-04-20T02:57:03.108914Z",
     "start_time": "2019-04-20T02:57:02.477800Z"
    }
   },
   "outputs": [],
   "source": [
    "u=nd.array([[1,2,3],[3,2,1]])\n",
    "u+z\n",
    "##广播机制只能使用于矩阵"
   ]
  },
  {
   "cell_type": "code",
   "execution_count": null,
   "metadata": {
    "ExecuteTime": {
     "end_time": "2019-04-20T03:09:45.307636Z",
     "start_time": "2019-04-20T03:09:45.296630Z"
    }
   },
   "outputs": [],
   "source": [
    "#广播机制\n",
    "x=nd.arange(1,4).reshape(1,3)\n",
    "y=nd.arange(3).reshape(3,1)\n",
    "x+y"
   ]
  },
  {
   "cell_type": "code",
   "execution_count": null,
   "metadata": {
    "ExecuteTime": {
     "end_time": "2019-04-20T03:11:42.950731Z",
     "start_time": "2019-04-20T03:11:42.942727Z"
    }
   },
   "outputs": [],
   "source": [
    "X+Y"
   ]
  },
  {
   "cell_type": "code",
   "execution_count": null,
   "metadata": {
    "ExecuteTime": {
     "end_time": "2019-04-20T03:11:43.970592Z",
     "start_time": "2019-04-20T03:11:43.963585Z"
    }
   },
   "outputs": [],
   "source": [
    "X/Y"
   ]
  },
  {
   "cell_type": "code",
   "execution_count": null,
   "metadata": {
    "ExecuteTime": {
     "end_time": "2019-04-20T03:11:45.105781Z",
     "start_time": "2019-04-20T03:11:45.096776Z"
    }
   },
   "outputs": [],
   "source": [
    "X*Y"
   ]
  },
  {
   "cell_type": "code",
   "execution_count": null,
   "metadata": {
    "ExecuteTime": {
     "end_time": "2019-04-20T03:12:29.434369Z",
     "start_time": "2019-04-20T03:12:28.776652Z"
    }
   },
   "outputs": [],
   "source": [
    "nd.dot(X,Y.T)"
   ]
  },
  {
   "cell_type": "code",
   "execution_count": null,
   "metadata": {
    "ExecuteTime": {
     "end_time": "2019-04-20T03:13:04.586061Z",
     "start_time": "2019-04-20T03:13:03.999466Z"
    }
   },
   "outputs": [],
   "source": [
    "nd.exp(X)"
   ]
  },
  {
   "cell_type": "code",
   "execution_count": null,
   "metadata": {
    "ExecuteTime": {
     "end_time": "2019-04-20T03:13:13.523185Z",
     "start_time": "2019-04-20T03:13:13.514181Z"
    }
   },
   "outputs": [],
   "source": [
    "X.exp()"
   ]
  },
  {
   "cell_type": "code",
   "execution_count": null,
   "metadata": {
    "ExecuteTime": {
     "end_time": "2019-04-20T03:13:20.072934Z",
     "start_time": "2019-04-20T03:13:19.723379Z"
    }
   },
   "outputs": [],
   "source": [
    "X==Y"
   ]
  },
  {
   "cell_type": "code",
   "execution_count": null,
   "metadata": {
    "ExecuteTime": {
     "end_time": "2019-04-20T03:14:00.018986Z",
     "start_time": "2019-04-20T03:13:59.679211Z"
    }
   },
   "outputs": [],
   "source": [
    "nd.concat(X,Y)"
   ]
  },
  {
   "cell_type": "code",
   "execution_count": null,
   "metadata": {
    "ExecuteTime": {
     "end_time": "2019-04-20T03:14:21.240457Z",
     "start_time": "2019-04-20T03:14:21.233452Z"
    }
   },
   "outputs": [],
   "source": [
    "nd.concat(X,Y,dim=0)"
   ]
  },
  {
   "cell_type": "code",
   "execution_count": null,
   "metadata": {
    "ExecuteTime": {
     "end_time": "2019-04-20T03:19:19.645390Z",
     "start_time": "2019-04-20T03:19:18.658537Z"
    }
   },
   "outputs": [],
   "source": [
    "X.sum()"
   ]
  },
  {
   "cell_type": "code",
   "execution_count": null,
   "metadata": {
    "ExecuteTime": {
     "end_time": "2019-04-20T03:20:45.374579Z",
     "start_time": "2019-04-20T03:20:45.324547Z"
    }
   },
   "outputs": [],
   "source": [
    "#X的L2范数\n",
    "X.norm().asscalar()"
   ]
  },
  {
   "cell_type": "code",
   "execution_count": null,
   "metadata": {
    "ExecuteTime": {
     "end_time": "2019-04-20T03:21:58.917229Z",
     "start_time": "2019-04-20T03:21:58.899220Z"
    }
   },
   "outputs": [],
   "source": [
    "X[1:3]"
   ]
  },
  {
   "cell_type": "code",
   "execution_count": null,
   "metadata": {
    "ExecuteTime": {
     "end_time": "2019-04-20T03:22:40.341432Z",
     "start_time": "2019-04-20T03:22:40.335428Z"
    }
   },
   "outputs": [],
   "source": [
    "X[1:3,1:2]"
   ]
  },
  {
   "cell_type": "code",
   "execution_count": null,
   "metadata": {
    "ExecuteTime": {
     "end_time": "2019-04-20T03:23:15.039945Z",
     "start_time": "2019-04-20T03:23:14.804085Z"
    }
   },
   "outputs": [],
   "source": [
    "X[1,2]=9\n",
    "X"
   ]
  },
  {
   "cell_type": "code",
   "execution_count": null,
   "metadata": {
    "ExecuteTime": {
     "end_time": "2019-04-20T03:30:49.905805Z",
     "start_time": "2019-04-20T03:30:49.858773Z"
    }
   },
   "outputs": [],
   "source": [
    "Z=X.zeros_like()\n",
    "Z"
   ]
  },
  {
   "cell_type": "code",
   "execution_count": null,
   "metadata": {
    "ExecuteTime": {
     "end_time": "2019-04-20T03:31:47.983082Z",
     "start_time": "2019-04-20T03:31:47.974076Z"
    }
   },
   "outputs": [],
   "source": [
    "#u每次被赋值时都会产生X+Y的临时内存\n",
    "u=X+Y\n",
    "u"
   ]
  },
  {
   "cell_type": "code",
   "execution_count": null,
   "metadata": {
    "ExecuteTime": {
     "end_time": "2019-04-20T03:36:49.829633Z",
     "start_time": "2019-04-20T03:36:49.820626Z"
    }
   },
   "outputs": [],
   "source": [
    "#为了避免这个临时内存的开销，可以使用运算符全命名函数中的out函数\n",
    "before=X+Y\n",
    "Z=before\n",
    "nd.elemwise_add(X,Y,out=Z)\n",
    "id(before)==id(Z)"
   ]
  },
  {
   "cell_type": "code",
   "execution_count": null,
   "metadata": {
    "ExecuteTime": {
     "end_time": "2019-04-20T03:37:50.345093Z",
     "start_time": "2019-04-20T03:37:50.341088Z"
    }
   },
   "outputs": [],
   "source": [
    "#如果某个参数X的值不再使用，可以使用\n",
    "X+=Y"
   ]
  },
  {
   "cell_type": "code",
   "execution_count": null,
   "metadata": {
    "ExecuteTime": {
     "end_time": "2019-04-20T03:38:13.149898Z",
     "start_time": "2019-04-20T03:38:13.141894Z"
    }
   },
   "outputs": [],
   "source": [
    "X.asnumpy()"
   ]
  },
  {
   "cell_type": "markdown",
   "metadata": {},
   "source": [
    "# 梯度求解"
   ]
  },
  {
   "cell_type": "code",
   "execution_count": 1,
   "metadata": {
    "ExecuteTime": {
     "end_time": "2019-04-20T06:12:15.321952Z",
     "start_time": "2019-04-20T06:11:13.017118Z"
    }
   },
   "outputs": [],
   "source": [
    "from mxnet import autograd, nd"
   ]
  },
  {
   "cell_type": "code",
   "execution_count": null,
   "metadata": {
    "ExecuteTime": {
     "end_time": "2019-04-20T06:01:04.846004Z",
     "start_time": "2019-04-20T06:01:04.836999Z"
    }
   },
   "outputs": [],
   "source": [
    "#为了求梯度，需要用attach_grad获取储存梯度的内存\n",
    "x=nd.arange(4).reshape(4,1)\n",
    "x.attach_grad()"
   ]
  },
  {
   "cell_type": "code",
   "execution_count": null,
   "metadata": {
    "ExecuteTime": {
     "end_time": "2019-04-20T06:01:05.786715Z",
     "start_time": "2019-04-20T06:01:05.689149Z"
    }
   },
   "outputs": [],
   "source": [
    "##mxnet为减少内存开销，默认条件下不会记录求梯度过程，我们需要用record函数来记录与梯度相关的计算\n",
    "with autograd.record():\n",
    "    y=2*nd.dot(x.T,x)\n",
    "    y.backward()\n",
    "y/x"
   ]
  },
  {
   "cell_type": "code",
   "execution_count": null,
   "metadata": {
    "ExecuteTime": {
     "end_time": "2019-04-20T05:32:47.778671Z",
     "start_time": "2019-04-20T05:32:47.770672Z"
    }
   },
   "outputs": [],
   "source": [
    "assert ( x.grad -4*x).norm().asscalar()==0"
   ]
  },
  {
   "cell_type": "code",
   "execution_count": null,
   "metadata": {
    "ExecuteTime": {
     "end_time": "2019-04-20T05:06:54.982355Z",
     "start_time": "2019-04-20T05:06:54.974350Z"
    }
   },
   "outputs": [],
   "source": [
    "##在调用record函数后，默认情况下会将运行模式转为训练模式\n",
    "print(autograd.is_training())\n",
    "with autograd.record():\n",
    "    print(autograd.is_training())"
   ]
  },
  {
   "cell_type": "code",
   "execution_count": 22,
   "metadata": {
    "ExecuteTime": {
     "end_time": "2019-04-20T06:37:51.706092Z",
     "start_time": "2019-04-20T06:37:51.660061Z"
    }
   },
   "outputs": [
    {
     "name": "stdout",
     "output_type": "stream",
     "text": [
      "\n",
      "[[-2.0320427   0.12535118  1.1308912 ]\n",
      " [ 0.7975923   0.3951814   0.28870544]\n",
      " [ 0.9324615  -0.23988613 -0.56608427]\n",
      " [-0.39505458 -0.4548878   0.06443289]\n",
      " [ 0.5373315   0.5443839  -0.7556804 ]\n",
      " [-0.9151002   0.13664998  0.6581289 ]\n",
      " [-0.4829211  -0.52573365 -0.56757694]\n",
      " [ 0.5815633   0.28752208 -0.04466231]\n",
      " [ 1.2711253  -0.22282615 -0.13130406]\n",
      " [-2.3504982  -1.0225859  -3.063631  ]\n",
      " [-0.16971476 -1.0315224  -1.7215557 ]\n",
      " [-0.51747125 -0.14015885  0.36172876]\n",
      " [-0.39974266  1.5681199   1.5267444 ]\n",
      " [-0.06284162 -1.0716764   1.1127799 ]\n",
      " [-0.63718027  1.1728598   1.1777918 ]\n",
      " [ 0.39020136 -0.47798824 -0.6830585 ]\n",
      " [-0.98043364 -0.45766     1.500102  ]\n",
      " [-0.98644793  0.19554725  1.245432  ]\n",
      " [ 0.08104635 -0.6698103   0.05762542]\n",
      " [-0.10484769  0.11729875 -1.1180092 ]]\n",
      "<NDArray 20x3 @cpu(0)>\n",
      "\n",
      "[[-52020.293    3208.99    28950.814 ]\n",
      " [ 20418.363   10116.644    7390.8594]\n",
      " [ 23871.014   -6141.085  -14491.757 ]\n",
      " [-10113.397  -11645.128    1649.4819]\n",
      " [ 13755.687   13936.228  -19345.418 ]\n",
      " [-23426.566    3498.2395  16848.1   ]\n",
      " [-12362.78   -13458.781  -14529.97  ]\n",
      " [ 14888.0205   7360.5654  -1143.3552]\n",
      " [ 32540.809   -5704.3496  -3361.3838]\n",
      " [-60172.754  -26178.2    -78428.95  ]\n",
      " [ -4344.6978 -26406.973  -44071.83  ]\n",
      " [-13247.264   -3588.0664   9260.256 ]\n",
      " [-10233.412   40143.867   39084.656 ]\n",
      " [ -1608.7454 -27434.916   28487.164 ]\n",
      " [-16311.814   30025.21    30151.47  ]\n",
      " [  9989.155  -12236.499  -17486.297 ]\n",
      " [-25099.102  -11716.096   38402.613 ]\n",
      " [-25253.066    5006.01    31883.06  ]\n",
      " [  2074.7866 -17147.145    1475.2108]\n",
      " [ -2684.1008   3002.8481 -28621.035 ]]\n",
      "<NDArray 20x3 @cpu(0)>\n"
     ]
    },
    {
     "data": {
      "text/plain": [
       "\n",
       "[[25600.    25600.    25600.   ]\n",
       " [25600.002 25600.    25600.   ]\n",
       " [25600.    25600.    25600.   ]\n",
       " [25600.    25600.    25600.   ]\n",
       " [25600.    25600.    25600.   ]\n",
       " [25600.    25600.    25599.998]\n",
       " [25600.    25600.    25600.   ]\n",
       " [25600.    25600.    25600.002]\n",
       " [25600.    25600.    25600.   ]\n",
       " [25600.    25600.    25600.   ]\n",
       " [25599.998 25600.    25600.002]\n",
       " [25600.    25600.    25600.   ]\n",
       " [25600.    25599.998 25600.   ]\n",
       " [25600.    25600.    25600.   ]\n",
       " [25600.    25600.    25600.   ]\n",
       " [25600.002 25600.    25599.998]\n",
       " [25600.    25600.    25600.   ]\n",
       " [25600.    25600.    25600.   ]\n",
       " [25600.    25600.002 25600.   ]\n",
       " [25600.    25600.    25600.   ]]\n",
       "<NDArray 20x3 @cpu(0)>"
      ]
     },
     "execution_count": 22,
     "metadata": {},
     "output_type": "execute_result"
    }
   ],
   "source": [
    "def f(a):\n",
    "    b = a * 2\n",
    "    while b.norm().asscalar() < 1000:\n",
    "        b = b * 2\n",
    "    if b.sum().asscalar() > 0:\n",
    "        c = b\n",
    "    else:\n",
    "        c = 100 * b\n",
    "    return c\n",
    "\n",
    "a=nd.random.normal(shape=(20,3))\n",
    "print(a)\n",
    "a.attach_grad()\n",
    "with autograd.record():\n",
    "    c=f(a)\n",
    "    print(c)\n",
    "c.backward()\n",
    "c/a"
   ]
  },
  {
   "cell_type": "code",
   "execution_count": 21,
   "metadata": {
    "ExecuteTime": {
     "end_time": "2019-04-20T06:36:49.384586Z",
     "start_time": "2019-04-20T06:36:49.374577Z"
    }
   },
   "outputs": [
    {
     "data": {
      "text/plain": [
       "25599.999256316954"
      ]
     },
     "execution_count": 21,
     "metadata": {},
     "output_type": "execute_result"
    }
   ],
   "source": [
    "(-15146.237 )/(-0.5916499)"
   ]
  },
  {
   "cell_type": "code",
   "execution_count": null,
   "metadata": {
    "ExecuteTime": {
     "end_time": "2019-04-20T05:58:44.870189Z",
     "start_time": "2019-04-20T05:58:44.853177Z"
    }
   },
   "outputs": [],
   "source": [
    "print(a.grad,c/a)"
   ]
  },
  {
   "cell_type": "code",
   "execution_count": null,
   "metadata": {
    "ExecuteTime": {
     "end_time": "2019-04-20T05:59:21.826205Z",
     "start_time": "2019-04-20T05:59:21.799187Z"
    }
   },
   "outputs": [],
   "source": [
    "a.grad==c/a\n",
    "##说明用backward函数求导是对的"
   ]
  },
  {
   "cell_type": "code",
   "execution_count": 103,
   "metadata": {
    "ExecuteTime": {
     "end_time": "2019-04-20T10:08:13.710186Z",
     "start_time": "2019-04-20T10:08:13.690174Z"
    },
    "scrolled": true
   },
   "outputs": [
    {
     "name": "stdout",
     "output_type": "stream",
     "text": [
      "\n",
      "[[0.00402608 0.0900996 ]\n",
      " [0.3694024  0.233415  ]]\n",
      "<NDArray 2x2 @cpu(0)>\n"
     ]
    },
    {
     "data": {
      "text/plain": [
       "\n",
       "[[-0.08212954]\n",
       " [-0.5370728 ]]\n",
       "<NDArray 2x1 @cpu(0)>"
      ]
     },
     "execution_count": 103,
     "metadata": {},
     "output_type": "execute_result"
    }
   ],
   "source": [
    "x=nd.random.normal(shape=(2,2))\n",
    "y=nd.random.normal(shape=(2,1))\n",
    "print(x)\n",
    "def g(a):\n",
    "    return nd.dot(x,y)\n",
    "g(x)"
   ]
  },
  {
   "cell_type": "code",
   "execution_count": 104,
   "metadata": {
    "ExecuteTime": {
     "end_time": "2019-04-20T10:08:14.536102Z",
     "start_time": "2019-04-20T10:08:14.518090Z"
    }
   },
   "outputs": [
    {
     "name": "stdout",
     "output_type": "stream",
     "text": [
      "\n",
      "[[0.00402608 0.0900996 ]\n",
      " [0.3694024  0.233415  ]]\n",
      "<NDArray 2x2 @cpu(0)> \n",
      "[[-0.08212954]\n",
      " [-0.5370728 ]]\n",
      "<NDArray 2x1 @cpu(0)>\n"
     ]
    },
    {
     "data": {
      "text/plain": [
       "\n",
       "[[-0.903427   -0.87117225]\n",
       " [-0.903427   -0.87117225]]\n",
       "<NDArray 2x2 @cpu(0)>"
      ]
     },
     "execution_count": 104,
     "metadata": {},
     "output_type": "execute_result"
    }
   ],
   "source": [
    "x.attach_grad()\n",
    "with autograd.record():\n",
    "    c=g(x)\n",
    "    print(x,c)\n",
    "c.backward()\n",
    "x.grad"
   ]
  },
  {
   "cell_type": "code",
   "execution_count": 99,
   "metadata": {
    "ExecuteTime": {
     "end_time": "2019-04-20T09:50:18.429150Z",
     "start_time": "2019-04-20T09:50:18.409139Z"
    }
   },
   "outputs": [
    {
     "name": "stdout",
     "output_type": "stream",
     "text": [
      "\n",
      "[0.36351895]\n",
      "<NDArray 1 @cpu(0)>\n",
      "\n",
      "[6.6627426]\n",
      "<NDArray 1 @cpu(0)>\n",
      "\n",
      "[18.32846]\n",
      "<NDArray 1 @cpu(0)>\n"
     ]
    }
   ],
   "source": [
    "l=0\n",
    "m=0\n",
    "for i in x:\n",
    "    l+=i[0]\n",
    "print(l)\n",
    "for i in c:\n",
    "    for j in i:\n",
    "        m+=j\n",
    "print(m)\n",
    "print(m/l)"
   ]
  },
  {
   "cell_type": "code",
   "execution_count": 43,
   "metadata": {
    "ExecuteTime": {
     "end_time": "2019-04-20T08:28:27.188559Z",
     "start_time": "2019-04-20T08:28:27.178552Z"
    }
   },
   "outputs": [
    {
     "data": {
      "text/plain": [
       "['__annotations__',\n",
       " '__call__',\n",
       " '__class__',\n",
       " '__closure__',\n",
       " '__code__',\n",
       " '__defaults__',\n",
       " '__delattr__',\n",
       " '__dict__',\n",
       " '__dir__',\n",
       " '__doc__',\n",
       " '__eq__',\n",
       " '__format__',\n",
       " '__ge__',\n",
       " '__get__',\n",
       " '__getattribute__',\n",
       " '__globals__',\n",
       " '__gt__',\n",
       " '__hash__',\n",
       " '__init__',\n",
       " '__init_subclass__',\n",
       " '__kwdefaults__',\n",
       " '__le__',\n",
       " '__lt__',\n",
       " '__module__',\n",
       " '__name__',\n",
       " '__ne__',\n",
       " '__new__',\n",
       " '__qualname__',\n",
       " '__reduce__',\n",
       " '__reduce_ex__',\n",
       " '__repr__',\n",
       " '__setattr__',\n",
       " '__sizeof__',\n",
       " '__str__',\n",
       " '__subclasshook__']"
      ]
     },
     "execution_count": 43,
     "metadata": {},
     "output_type": "execute_result"
    }
   ],
   "source": [
    "from mxnet import autograd\n",
    "dir(autograd.backward)"
   ]
  },
  {
   "cell_type": "code",
   "execution_count": null,
   "metadata": {},
   "outputs": [],
   "source": []
  }
 ],
 "metadata": {
  "kernelspec": {
   "display_name": "gluon",
   "language": "python",
   "name": "gluon"
  },
  "language_info": {
   "codemirror_mode": {
    "name": "ipython",
    "version": 3
   },
   "file_extension": ".py",
   "mimetype": "text/x-python",
   "name": "python",
   "nbconvert_exporter": "python",
   "pygments_lexer": "ipython3",
   "version": "3.6.8"
  },
  "latex_envs": {
   "LaTeX_envs_menu_present": true,
   "autoclose": false,
   "autocomplete": true,
   "bibliofile": "biblio.bib",
   "cite_by": "apalike",
   "current_citInitial": 1,
   "eqLabelWithNumbers": true,
   "eqNumInitial": 1,
   "hotkeys": {
    "equation": "Ctrl-E",
    "itemize": "Ctrl-I"
   },
   "labels_anchors": false,
   "latex_user_defs": false,
   "report_style_numbering": false,
   "user_envs_cfg": false
  },
  "toc": {
   "base_numbering": 1,
   "nav_menu": {},
   "number_sections": true,
   "sideBar": true,
   "skip_h1_title": false,
   "title_cell": "Table of Contents",
   "title_sidebar": "Contents",
   "toc_cell": false,
   "toc_position": {},
   "toc_section_display": true,
   "toc_window_display": false
  },
  "varInspector": {
   "cols": {
    "lenName": 16,
    "lenType": 16,
    "lenVar": 40
   },
   "kernels_config": {
    "python": {
     "delete_cmd_postfix": "",
     "delete_cmd_prefix": "del ",
     "library": "var_list.py",
     "varRefreshCmd": "print(var_dic_list())"
    },
    "r": {
     "delete_cmd_postfix": ") ",
     "delete_cmd_prefix": "rm(",
     "library": "var_list.r",
     "varRefreshCmd": "cat(var_dic_list()) "
    }
   },
   "types_to_exclude": [
    "module",
    "function",
    "builtin_function_or_method",
    "instance",
    "_Feature"
   ],
   "window_display": false
  }
 },
 "nbformat": 4,
 "nbformat_minor": 2
}
